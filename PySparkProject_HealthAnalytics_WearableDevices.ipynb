{
 "cells": [
  {
   "cell_type": "code",
   "execution_count": 56,
   "id": "36a3e0df",
   "metadata": {},
   "outputs": [],
   "source": [
    "import pandas as pd \n",
    "from pyspark.sql import Row\n",
    "from pyspark import SparkContext, SparkConf\n",
    "from pyspark.sql import SparkSession"
   ]
  },
  {
   "cell_type": "code",
   "execution_count": 57,
   "id": "0d78b46d",
   "metadata": {},
   "outputs": [
    {
     "data": {
      "text/plain": [
       "DataFrame[ID: string, Observation_date: string, Full_name: string, Birth_date: string, Gender: string, Smoker: string, Drinker: string, Heart_disease: string, Steps_count: string, Sleep_hours: string, Stress_score: string]"
      ]
     },
     "execution_count": 57,
     "metadata": {},
     "output_type": "execute_result"
    }
   ],
   "source": [
    "df = spark.read.csv('PatientData_Definitive.csv', header = True, sep = ';')\n",
    "df"
   ]
  },
  {
   "cell_type": "code",
   "execution_count": 58,
   "id": "4904627c",
   "metadata": {},
   "outputs": [
    {
     "name": "stdout",
     "output_type": "stream",
     "text": [
      "[Row(ID='1', Observation_date='01/02/2022', Full_name='Zoella Pinksters', Birth_date='14/06/2002', Gender='Female', Smoker='TRUE', Drinker='TRUE', Heart_disease='TRUE', Steps_count='6876', Sleep_hours='8', Stress_score='59'), Row(ID='2', Observation_date='01/02/2022', Full_name='Rick Baster', Birth_date='26/01/1999', Gender='Male', Smoker='TRUE', Drinker='FALSE', Heart_disease='TRUE', Steps_count='4148', Sleep_hours='4', Stress_score='60'), Row(ID='3', Observation_date='01/02/2022', Full_name='Roger Novak', Birth_date='23/02/2000', Gender='Male', Smoker='TRUE', Drinker='TRUE', Heart_disease='TRUE', Steps_count='4851', Sleep_hours='10', Stress_score='14'), Row(ID='4', Observation_date='01/02/2022', Full_name='Ronald Johnson', Birth_date='14/08/1985', Gender='Male', Smoker='FALSE', Drinker='TRUE', Heart_disease='TRUE', Steps_count='4066', Sleep_hours='10', Stress_score='1'), Row(ID='5', Observation_date='01/02/2022', Full_name='Susan Mccan', Birth_date='31/07/1980', Gender='Female', Smoker='FALSE', Drinker='TRUE', Heart_disease='TRUE', Steps_count='6329', Sleep_hours='2', Stress_score='51'), Row(ID='6', Observation_date='01/02/2022', Full_name='Lucy Hale', Birth_date='13/12/1952', Gender='Female', Smoker='FALSE', Drinker='FALSE', Heart_disease='TRUE', Steps_count='10743', Sleep_hours='10', Stress_score='26'), Row(ID='7', Observation_date='01/02/2022', Full_name='Melinda King', Birth_date='30/01/2003', Gender='Female', Smoker='FALSE', Drinker='FALSE', Heart_disease='FALSE', Steps_count='11421', Sleep_hours='2', Stress_score='99'), Row(ID='8', Observation_date='01/02/2022', Full_name='Marlene Smith', Birth_date='07/06/1964', Gender='Male', Smoker='TRUE', Drinker='TRUE', Heart_disease='TRUE', Steps_count='5051', Sleep_hours='10', Stress_score='85'), Row(ID='9', Observation_date='01/02/2022', Full_name='David Turner', Birth_date='28/09/1984', Gender='Female', Smoker='TRUE', Drinker='FALSE', Heart_disease='FALSE', Steps_count='4329', Sleep_hours='7', Stress_score='50'), Row(ID='10', Observation_date='01/02/2022', Full_name='Taylor Long', Birth_date='06/08/1973', Gender='Male', Smoker='TRUE', Drinker='TRUE', Heart_disease='TRUE', Steps_count='1518', Sleep_hours='8', Stress_score='39'), Row(ID='11', Observation_date='02/02/2022', Full_name='Zoella Pinksters', Birth_date='14/06/2002', Gender='Female', Smoker='TRUE', Drinker='TRUE', Heart_disease='TRUE', Steps_count='6499', Sleep_hours='2', Stress_score='33'), Row(ID='12', Observation_date='02/02/2022', Full_name='Rick Baster', Birth_date='26/01/1999', Gender='Male', Smoker='TRUE', Drinker='FALSE', Heart_disease='TRUE', Steps_count='1704', Sleep_hours='3', Stress_score='39'), Row(ID='13', Observation_date='02/02/2022', Full_name='Roger Novak', Birth_date='23/02/2000', Gender='Male', Smoker='TRUE', Drinker='TRUE', Heart_disease='TRUE', Steps_count='2883', Sleep_hours='1', Stress_score='47'), Row(ID='14', Observation_date='02/02/2022', Full_name='Ronald Johnson', Birth_date='14/08/1985', Gender='Male', Smoker='FALSE', Drinker='TRUE', Heart_disease='TRUE', Steps_count='7671', Sleep_hours='8', Stress_score='65'), Row(ID='15', Observation_date='02/02/2022', Full_name='Susan Mccan', Birth_date='31/07/1980', Gender='Female', Smoker='FALSE', Drinker='TRUE', Heart_disease='TRUE', Steps_count='3747', Sleep_hours='7', Stress_score='9'), Row(ID='16', Observation_date='02/02/2022', Full_name='Lucy Hale', Birth_date='13/12/1952', Gender='Female', Smoker='FALSE', Drinker='FALSE', Heart_disease='TRUE', Steps_count='11895', Sleep_hours='11', Stress_score='73'), Row(ID='17', Observation_date='02/02/2022', Full_name='Melinda King', Birth_date='30/01/2003', Gender='Female', Smoker='FALSE', Drinker='FALSE', Heart_disease='FALSE', Steps_count='6190', Sleep_hours='10', Stress_score='27'), Row(ID='18', Observation_date='02/02/2022', Full_name='Marlene Smith', Birth_date='07/06/1964', Gender='Female', Smoker='TRUE', Drinker='TRUE', Heart_disease='TRUE', Steps_count='4646', Sleep_hours='5', Stress_score='57'), Row(ID='19', Observation_date='02/02/2022', Full_name='David Turner', Birth_date='28/09/1984', Gender='Male', Smoker='TRUE', Drinker='FALSE', Heart_disease='FALSE', Steps_count='8341', Sleep_hours='11', Stress_score='98'), Row(ID='20', Observation_date='02/02/2022', Full_name='Taylor Long', Birth_date='06/08/1973', Gender='Male', Smoker='TRUE', Drinker='TRUE', Heart_disease='TRUE', Steps_count='12393', Sleep_hours='7', Stress_score='87'), Row(ID='21', Observation_date='03/02/2022', Full_name='Zoella Pinksters', Birth_date='14/06/2002', Gender='Female', Smoker='TRUE', Drinker='TRUE', Heart_disease='TRUE', Steps_count='9888', Sleep_hours='10', Stress_score='66'), Row(ID='22', Observation_date='03/02/2022', Full_name='Rick Baster', Birth_date='26/01/1999', Gender='Male', Smoker='TRUE', Drinker='FALSE', Heart_disease='TRUE', Steps_count='8591', Sleep_hours='10', Stress_score='56'), Row(ID='23', Observation_date='03/02/2022', Full_name='Roger Novak', Birth_date='23/02/2000', Gender='Male', Smoker='TRUE', Drinker='TRUE', Heart_disease='TRUE', Steps_count='14991', Sleep_hours='5', Stress_score='36'), Row(ID='24', Observation_date='03/02/2022', Full_name='Ronald Johnson', Birth_date='14/08/1985', Gender='Male', Smoker='FALSE', Drinker='TRUE', Heart_disease='TRUE', Steps_count='2631', Sleep_hours='3', Stress_score='30'), Row(ID='25', Observation_date='03/02/2022', Full_name='Susan Mccan', Birth_date='31/07/1980', Gender='Female', Smoker='FALSE', Drinker='TRUE', Heart_disease='TRUE', Steps_count='5036', Sleep_hours='2', Stress_score='89'), Row(ID='26', Observation_date='03/02/2022', Full_name='Lucy Hale', Birth_date='13/12/1952', Gender='Female', Smoker='FALSE', Drinker='FALSE', Heart_disease='TRUE', Steps_count='9657', Sleep_hours='11', Stress_score='53'), Row(ID='27', Observation_date='03/02/2022', Full_name='Melinda King', Birth_date='30/01/2003', Gender='Female', Smoker='FALSE', Drinker='FALSE', Heart_disease='FALSE', Steps_count='14934', Sleep_hours='1', Stress_score='77'), Row(ID='28', Observation_date='03/02/2022', Full_name='Marlene Smith', Birth_date='07/06/1964', Gender='Male', Smoker='TRUE', Drinker='TRUE', Heart_disease='TRUE', Steps_count='8206', Sleep_hours='8', Stress_score='4'), Row(ID='29', Observation_date='03/02/2022', Full_name='David Turner', Birth_date='28/09/1984', Gender='Female', Smoker='TRUE', Drinker='FALSE', Heart_disease='FALSE', Steps_count='5177', Sleep_hours='8', Stress_score='59'), Row(ID='30', Observation_date='03/02/2022', Full_name='Taylor Long', Birth_date='06/08/1973', Gender='Male', Smoker='TRUE', Drinker='TRUE', Heart_disease='TRUE', Steps_count='7904', Sleep_hours='8', Stress_score='40'), Row(ID='31', Observation_date='04/02/2022', Full_name='Zoella Pinksters', Birth_date='14/06/2002', Gender='Female', Smoker='TRUE', Drinker='TRUE', Heart_disease='TRUE', Steps_count='1217', Sleep_hours='3', Stress_score='72'), Row(ID='32', Observation_date='04/02/2022', Full_name='Rick Baster', Birth_date='26/01/1999', Gender='Male', Smoker='TRUE', Drinker='FALSE', Heart_disease='TRUE', Steps_count='4565', Sleep_hours='9', Stress_score='80'), Row(ID='33', Observation_date='04/02/2022', Full_name='Roger Novak', Birth_date='23/02/2000', Gender='Male', Smoker='TRUE', Drinker='TRUE', Heart_disease='TRUE', Steps_count='6959', Sleep_hours='5', Stress_score='77'), Row(ID='34', Observation_date='04/02/2022', Full_name='Ronald Johnson', Birth_date='14/08/1985', Gender='Male', Smoker='FALSE', Drinker='TRUE', Heart_disease='TRUE', Steps_count='7073', Sleep_hours='3', Stress_score='65'), Row(ID='35', Observation_date='04/02/2022', Full_name='Susan Mccan', Birth_date='31/07/1980', Gender='Female', Smoker='FALSE', Drinker='TRUE', Heart_disease='TRUE', Steps_count='3869', Sleep_hours='10', Stress_score='37'), Row(ID='36', Observation_date='04/02/2022', Full_name='Lucy Hale', Birth_date='13/12/1952', Gender='Female', Smoker='FALSE', Drinker='FALSE', Heart_disease='TRUE', Steps_count='10615', Sleep_hours='2', Stress_score='78'), Row(ID='37', Observation_date='04/02/2022', Full_name='Melinda King', Birth_date='30/01/2003', Gender='Female', Smoker='FALSE', Drinker='FALSE', Heart_disease='FALSE', Steps_count='5621', Sleep_hours='8', Stress_score='76'), Row(ID='38', Observation_date='04/02/2022', Full_name='Marlene Smith', Birth_date='07/06/1964', Gender='Female', Smoker='TRUE', Drinker='TRUE', Heart_disease='TRUE', Steps_count='1267', Sleep_hours='2', Stress_score='9'), Row(ID='39', Observation_date='04/02/2022', Full_name='David Turner', Birth_date='28/09/1984', Gender='Male', Smoker='TRUE', Drinker='FALSE', Heart_disease='FALSE', Steps_count='14785', Sleep_hours='11', Stress_score='47'), Row(ID='40', Observation_date='04/02/2022', Full_name='Taylor Long', Birth_date='06/08/1973', Gender='Male', Smoker='TRUE', Drinker='TRUE', Heart_disease='TRUE', Steps_count='10315', Sleep_hours='3', Stress_score='14'), Row(ID='41', Observation_date='05/02/2022', Full_name='Zoella Pinksters', Birth_date='14/06/2002', Gender='Female', Smoker='TRUE', Drinker='TRUE', Heart_disease='TRUE', Steps_count='11998', Sleep_hours='7', Stress_score='95'), Row(ID='42', Observation_date='05/02/2022', Full_name='Rick Baster', Birth_date='26/01/1999', Gender='Male', Smoker='TRUE', Drinker='FALSE', Heart_disease='TRUE', Steps_count='5119', Sleep_hours='2', Stress_score='65'), Row(ID='43', Observation_date='05/02/2022', Full_name='Roger Novak', Birth_date='23/02/2000', Gender='Male', Smoker='TRUE', Drinker='TRUE', Heart_disease='TRUE', Steps_count='1048', Sleep_hours='2', Stress_score='72'), Row(ID='44', Observation_date='05/02/2022', Full_name='Ronald Johnson', Birth_date='14/08/1985', Gender='Male', Smoker='FALSE', Drinker='TRUE', Heart_disease='TRUE', Steps_count='11328', Sleep_hours='6', Stress_score='78'), Row(ID='45', Observation_date='05/02/2022', Full_name='Susan Mccan', Birth_date='31/07/1980', Gender='Female', Smoker='FALSE', Drinker='TRUE', Heart_disease='TRUE', Steps_count='7876', Sleep_hours='11', Stress_score='14'), Row(ID='46', Observation_date='05/02/2022', Full_name='Lucy Hale', Birth_date='13/12/1952', Gender='Female', Smoker='FALSE', Drinker='FALSE', Heart_disease='TRUE', Steps_count='10244', Sleep_hours='11', Stress_score='99'), Row(ID='47', Observation_date='05/02/2022', Full_name='Melinda King', Birth_date='30/01/2003', Gender='Female', Smoker='FALSE', Drinker='FALSE', Heart_disease='FALSE', Steps_count='1624', Sleep_hours='4', Stress_score='78'), Row(ID='48', Observation_date='05/02/2022', Full_name='Marlene Smith', Birth_date='07/06/1964', Gender='Male', Smoker='TRUE', Drinker='TRUE', Heart_disease='TRUE', Steps_count='7591', Sleep_hours='8', Stress_score='35'), Row(ID='49', Observation_date='05/02/2022', Full_name='David Turner', Birth_date='28/09/1984', Gender='Female', Smoker='TRUE', Drinker='FALSE', Heart_disease='FALSE', Steps_count='13307', Sleep_hours='5', Stress_score='85'), Row(ID='50', Observation_date='05/02/2022', Full_name='Taylor Long', Birth_date='06/08/1973', Gender='Male', Smoker='TRUE', Drinker='TRUE', Heart_disease='TRUE', Steps_count='7006', Sleep_hours='8', Stress_score='24'), Row(ID='51', Observation_date='06/02/2022', Full_name='Zoella Pinksters', Birth_date='14/06/2002', Gender='Female', Smoker='TRUE', Drinker='TRUE', Heart_disease='TRUE', Steps_count='5730', Sleep_hours='9', Stress_score='8'), Row(ID='52', Observation_date='06/02/2022', Full_name='Rick Baster', Birth_date='26/01/1999', Gender='Male', Smoker='TRUE', Drinker='FALSE', Heart_disease='TRUE', Steps_count='10188', Sleep_hours='2', Stress_score='11'), Row(ID='53', Observation_date='06/02/2022', Full_name='Roger Novak', Birth_date='23/02/2000', Gender='Male', Smoker='TRUE', Drinker='TRUE', Heart_disease='TRUE', Steps_count='12908', Sleep_hours='2', Stress_score='83'), Row(ID='54', Observation_date='06/02/2022', Full_name='Ronald Johnson', Birth_date='14/08/1985', Gender='Male', Smoker='FALSE', Drinker='TRUE', Heart_disease='TRUE', Steps_count='4977', Sleep_hours='2', Stress_score='26'), Row(ID='55', Observation_date='06/02/2022', Full_name='Susan Mccan', Birth_date='31/07/1980', Gender='Female', Smoker='FALSE', Drinker='TRUE', Heart_disease='TRUE', Steps_count='3501', Sleep_hours='7', Stress_score='95'), Row(ID='56', Observation_date='06/02/2022', Full_name='Lucy Hale', Birth_date='13/12/1952', Gender='Female', Smoker='FALSE', Drinker='FALSE', Heart_disease='TRUE', Steps_count='3177', Sleep_hours='9', Stress_score='3'), Row(ID='57', Observation_date='06/02/2022', Full_name='Melinda King', Birth_date='30/01/2003', Gender='Female', Smoker='FALSE', Drinker='FALSE', Heart_disease='FALSE', Steps_count='8305', Sleep_hours='10', Stress_score='24'), Row(ID='58', Observation_date='06/02/2022', Full_name='Marlene Smith', Birth_date='07/06/1964', Gender='Female', Smoker='TRUE', Drinker='TRUE', Heart_disease='TRUE', Steps_count='9446', Sleep_hours='7', Stress_score='83'), Row(ID='59', Observation_date='06/02/2022', Full_name='David Turner', Birth_date='28/09/1984', Gender='Male', Smoker='TRUE', Drinker='FALSE', Heart_disease='FALSE', Steps_count='3761', Sleep_hours='9', Stress_score='12'), Row(ID='60', Observation_date='06/02/2022', Full_name='Taylor Long', Birth_date='06/08/1973', Gender='Male', Smoker='TRUE', Drinker='TRUE', Heart_disease='TRUE', Steps_count='10475', Sleep_hours='2', Stress_score='97'), Row(ID='61', Observation_date='07/02/2022', Full_name='Zoella Pinksters', Birth_date='14/06/2002', Gender='Female', Smoker='TRUE', Drinker='TRUE', Heart_disease='TRUE', Steps_count='5789', Sleep_hours='10', Stress_score='48'), Row(ID='62', Observation_date='07/02/2022', Full_name='Rick Baster', Birth_date='26/01/1999', Gender='Male', Smoker='TRUE', Drinker='FALSE', Heart_disease='TRUE', Steps_count='14331', Sleep_hours='6', Stress_score='96'), Row(ID='63', Observation_date='07/02/2022', Full_name='Roger Novak', Birth_date='23/02/2000', Gender='Male', Smoker='TRUE', Drinker='TRUE', Heart_disease='TRUE', Steps_count='14651', Sleep_hours='2', Stress_score='27'), Row(ID='64', Observation_date='07/02/2022', Full_name='Ronald Johnson', Birth_date='14/08/1985', Gender='Male', Smoker='FALSE', Drinker='TRUE', Heart_disease='TRUE', Steps_count='14327', Sleep_hours='10', Stress_score='10'), Row(ID='65', Observation_date='07/02/2022', Full_name='Susan Mccan', Birth_date='31/07/1980', Gender='Female', Smoker='FALSE', Drinker='TRUE', Heart_disease='TRUE', Steps_count='3481', Sleep_hours='6', Stress_score='67'), Row(ID='66', Observation_date='07/02/2022', Full_name='Lucy Hale', Birth_date='13/12/1952', Gender='Female', Smoker='FALSE', Drinker='FALSE', Heart_disease='TRUE', Steps_count='13199', Sleep_hours='5', Stress_score='52'), Row(ID='67', Observation_date='07/02/2022', Full_name='Melinda King', Birth_date='30/01/2003', Gender='Female', Smoker='FALSE', Drinker='FALSE', Heart_disease='FALSE', Steps_count='1417', Sleep_hours='10', Stress_score='61'), Row(ID='68', Observation_date='07/02/2022', Full_name='Marlene Smith', Birth_date='07/06/1964', Gender='Male', Smoker='TRUE', Drinker='TRUE', Heart_disease='TRUE', Steps_count='3365', Sleep_hours='9', Stress_score='82'), Row(ID='69', Observation_date='07/02/2022', Full_name='David Turner', Birth_date='28/09/1984', Gender='Female', Smoker='TRUE', Drinker='FALSE', Heart_disease='FALSE', Steps_count='5108', Sleep_hours='10', Stress_score='29'), Row(ID='70', Observation_date='07/02/2022', Full_name='Taylor Long', Birth_date='06/08/1973', Gender='Male', Smoker='TRUE', Drinker='TRUE', Heart_disease='TRUE', Steps_count='11289', Sleep_hours='5', Stress_score='30'), Row(ID='71', Observation_date='08/02/2022', Full_name='Zoella Pinksters', Birth_date='14/06/2002', Gender='Female', Smoker='TRUE', Drinker='TRUE', Heart_disease='TRUE', Steps_count='13437', Sleep_hours='4', Stress_score='97'), Row(ID='72', Observation_date='08/02/2022', Full_name='Rick Baster', Birth_date='26/01/1999', Gender='Male', Smoker='TRUE', Drinker='FALSE', Heart_disease='TRUE', Steps_count='10403', Sleep_hours='9', Stress_score='19'), Row(ID='73', Observation_date='08/02/2022', Full_name='Roger Novak', Birth_date='23/02/2000', Gender='Male', Smoker='TRUE', Drinker='TRUE', Heart_disease='TRUE', Steps_count='10541', Sleep_hours='5', Stress_score='11'), Row(ID='74', Observation_date='08/02/2022', Full_name='Ronald Johnson', Birth_date='14/08/1985', Gender='Male', Smoker='FALSE', Drinker='TRUE', Heart_disease='TRUE', Steps_count='6389', Sleep_hours='8', Stress_score='85'), Row(ID='75', Observation_date='08/02/2022', Full_name='Susan Mccan', Birth_date='31/07/1980', Gender='Female', Smoker='FALSE', Drinker='TRUE', Heart_disease='TRUE', Steps_count='8732', Sleep_hours='11', Stress_score='91'), Row(ID='76', Observation_date='08/02/2022', Full_name='Lucy Hale', Birth_date='13/12/1952', Gender='Female', Smoker='FALSE', Drinker='FALSE', Heart_disease='TRUE', Steps_count='6180', Sleep_hours='8', Stress_score='2'), Row(ID='77', Observation_date='08/02/2022', Full_name='Melinda King', Birth_date='30/01/2003', Gender='Female', Smoker='FALSE', Drinker='FALSE', Heart_disease='FALSE', Steps_count='1717', Sleep_hours='9', Stress_score='83'), Row(ID='78', Observation_date='08/02/2022', Full_name='Marlene Smith', Birth_date='07/06/1964', Gender='Male', Smoker='TRUE', Drinker='TRUE', Heart_disease='TRUE', Steps_count='2336', Sleep_hours='11', Stress_score='57'), Row(ID='79', Observation_date='08/02/2022', Full_name='David Turner', Birth_date='28/09/1984', Gender='Female', Smoker='TRUE', Drinker='FALSE', Heart_disease='FALSE', Steps_count='11924', Sleep_hours='3', Stress_score='17'), Row(ID='80', Observation_date='08/02/2022', Full_name='Taylor Long', Birth_date='06/08/1973', Gender='Male', Smoker='TRUE', Drinker='TRUE', Heart_disease='TRUE', Steps_count='4469', Sleep_hours='3', Stress_score='89'), Row(ID='81', Observation_date='09/02/2022', Full_name='Zoella Pinksters', Birth_date='14/06/2002', Gender='Female', Smoker='TRUE', Drinker='TRUE', Heart_disease='TRUE', Steps_count='6918', Sleep_hours='7', Stress_score='74'), Row(ID='82', Observation_date='09/02/2022', Full_name='Rick Baster', Birth_date='26/01/1999', Gender='Male', Smoker='TRUE', Drinker='FALSE', Heart_disease='TRUE', Steps_count='10494', Sleep_hours='5', Stress_score='43'), Row(ID='83', Observation_date='09/02/2022', Full_name='Roger Novak', Birth_date='23/02/2000', Gender='Male', Smoker='TRUE', Drinker='TRUE', Heart_disease='TRUE', Steps_count='3972', Sleep_hours='4', Stress_score='18'), Row(ID='84', Observation_date='09/02/2022', Full_name='Ronald Johnson', Birth_date='14/08/1985', Gender='Male', Smoker='FALSE', Drinker='TRUE', Heart_disease='TRUE', Steps_count='14274', Sleep_hours='1', Stress_score='35'), Row(ID='85', Observation_date='09/02/2022', Full_name='Susan Mccan', Birth_date='31/07/1980', Gender='Female', Smoker='FALSE', Drinker='TRUE', Heart_disease='TRUE', Steps_count='2338', Sleep_hours='11', Stress_score='33'), Row(ID='86', Observation_date='09/02/2022', Full_name='Lucy Hale', Birth_date='13/12/1952', Gender='Female', Smoker='FALSE', Drinker='FALSE', Heart_disease='TRUE', Steps_count='13101', Sleep_hours='1', Stress_score='62'), Row(ID='87', Observation_date='09/02/2022', Full_name='Melinda King', Birth_date='30/01/2003', Gender='Female', Smoker='FALSE', Drinker='FALSE', Heart_disease='FALSE', Steps_count='14237', Sleep_hours='7', Stress_score='97'), Row(ID='88', Observation_date='09/02/2022', Full_name='Marlene Smith', Birth_date='07/06/1964', Gender='Male', Smoker='TRUE', Drinker='TRUE', Heart_disease='TRUE', Steps_count='14354', Sleep_hours='3', Stress_score='52'), Row(ID='89', Observation_date='09/02/2022', Full_name='David Turner', Birth_date='28/09/1984', Gender='Female', Smoker='TRUE', Drinker='FALSE', Heart_disease='FALSE', Steps_count='5520', Sleep_hours='8', Stress_score='70'), Row(ID='90', Observation_date='09/02/2022', Full_name='Taylor Long', Birth_date='06/08/1973', Gender='Male', Smoker='TRUE', Drinker='TRUE', Heart_disease='TRUE', Steps_count='12089', Sleep_hours='1', Stress_score='34'), Row(ID='91', Observation_date='10/02/2022', Full_name='Zoella Pinksters', Birth_date='14/06/2002', Gender='Female', Smoker='TRUE', Drinker='TRUE', Heart_disease='TRUE', Steps_count='9536', Sleep_hours='4', Stress_score='54'), Row(ID='92', Observation_date='10/02/2022', Full_name='Rick Baster', Birth_date='26/01/1999', Gender='Male', Smoker='TRUE', Drinker='FALSE', Heart_disease='TRUE', Steps_count='14684', Sleep_hours='1', Stress_score='92'), Row(ID='93', Observation_date='10/02/2022', Full_name='Roger Novak', Birth_date='23/02/2000', Gender='Male', Smoker='TRUE', Drinker='TRUE', Heart_disease='TRUE', Steps_count='8235', Sleep_hours='4', Stress_score='96'), Row(ID='94', Observation_date='10/02/2022', Full_name='Ronald Johnson', Birth_date='14/08/1985', Gender='Male', Smoker='FALSE', Drinker='TRUE', Heart_disease='TRUE', Steps_count='4811', Sleep_hours='9', Stress_score='49'), Row(ID='95', Observation_date='10/02/2022', Full_name='Susan Mccan', Birth_date='31/07/1980', Gender='Female', Smoker='FALSE', Drinker='TRUE', Heart_disease='TRUE', Steps_count='5150', Sleep_hours='5', Stress_score='66'), Row(ID='96', Observation_date='10/02/2022', Full_name='Lucy Hale', Birth_date='13/12/1952', Gender='Female', Smoker='FALSE', Drinker='FALSE', Heart_disease='TRUE', Steps_count='3268', Sleep_hours='2', Stress_score='99'), Row(ID='97', Observation_date='10/02/2022', Full_name='Melinda King', Birth_date='30/01/2003', Gender='Female', Smoker='FALSE', Drinker='FALSE', Heart_disease='FALSE', Steps_count='4247', Sleep_hours='11', Stress_score='39'), Row(ID='98', Observation_date='10/02/2022', Full_name='Marlene Smith', Birth_date='07/06/1964', Gender='Male', Smoker='TRUE', Drinker='TRUE', Heart_disease='TRUE', Steps_count='8187', Sleep_hours='3', Stress_score='63'), Row(ID='99', Observation_date='10/02/2022', Full_name='David Turner', Birth_date='28/09/1984', Gender='Female', Smoker='TRUE', Drinker='FALSE', Heart_disease='FALSE', Steps_count='10395', Sleep_hours='1', Stress_score='12'), Row(ID='100', Observation_date='11/02/2022', Full_name='Taylor Long', Birth_date='06/08/1973', Gender='Male', Smoker='TRUE', Drinker='TRUE', Heart_disease='TRUE', Steps_count='1351', Sleep_hours='7', Stress_score='61'), Row(ID='101', Observation_date='11/02/2022', Full_name='Zoella Pinksters', Birth_date='14/06/2002', Gender='Female', Smoker='TRUE', Drinker='TRUE', Heart_disease='TRUE', Steps_count='1270', Sleep_hours='1', Stress_score='38'), Row(ID='102', Observation_date='11/02/2022', Full_name='Rick Baster', Birth_date='26/01/1999', Gender='Male', Smoker='TRUE', Drinker='FALSE', Heart_disease='TRUE', Steps_count='12991', Sleep_hours='7', Stress_score='96'), Row(ID='103', Observation_date='11/02/2022', Full_name='Roger Novak', Birth_date='23/02/2000', Gender='Male', Smoker='TRUE', Drinker='TRUE', Heart_disease='TRUE', Steps_count='11203', Sleep_hours='9', Stress_score='7'), Row(ID='104', Observation_date='11/02/2022', Full_name='Ronald Johnson', Birth_date='14/08/1985', Gender='Male', Smoker='FALSE', Drinker='TRUE', Heart_disease='TRUE', Steps_count='8103', Sleep_hours='11', Stress_score='55'), Row(ID='105', Observation_date='11/02/2022', Full_name='Susan Mccan', Birth_date='31/07/1980', Gender='Female', Smoker='FALSE', Drinker='TRUE', Heart_disease='TRUE', Steps_count='4316', Sleep_hours='4', Stress_score='27'), Row(ID='106', Observation_date='11/02/2022', Full_name='Lucy Hale', Birth_date='13/12/1952', Gender='Female', Smoker='FALSE', Drinker='FALSE', Heart_disease='TRUE', Steps_count='12732', Sleep_hours='1', Stress_score='89'), Row(ID='107', Observation_date='11/02/2022', Full_name='Melinda King', Birth_date='30/01/2003', Gender='Female', Smoker='FALSE', Drinker='FALSE', Heart_disease='FALSE', Steps_count='7711', Sleep_hours='9', Stress_score='99'), Row(ID='108', Observation_date='11/02/2022', Full_name='Marlene Smith', Birth_date='07/06/1964', Gender='Female', Smoker='TRUE', Drinker='TRUE', Heart_disease='TRUE', Steps_count='4411', Sleep_hours='6', Stress_score='98'), Row(ID='109', Observation_date='11/02/2022', Full_name='David Turner', Birth_date='28/09/1984', Gender='Male', Smoker='TRUE', Drinker='FALSE', Heart_disease='FALSE', Steps_count='10993', Sleep_hours='3', Stress_score='34'), Row(ID='110', Observation_date='11/02/2022', Full_name='Taylor Long', Birth_date='06/08/1973', Gender='Male', Smoker='TRUE', Drinker='TRUE', Heart_disease='TRUE', Steps_count='9212', Sleep_hours='10', Stress_score='93'), Row(ID='111', Observation_date='12/02/2022', Full_name='Zoella Pinksters', Birth_date='14/06/2002', Gender='Female', Smoker='TRUE', Drinker='TRUE', Heart_disease='TRUE', Steps_count='7525', Sleep_hours='1', Stress_score='20'), Row(ID='112', Observation_date='12/02/2022', Full_name='Rick Baster', Birth_date='26/01/1999', Gender='Male', Smoker='TRUE', Drinker='FALSE', Heart_disease='TRUE', Steps_count='9737', Sleep_hours='11', Stress_score='66'), Row(ID='113', Observation_date='12/02/2022', Full_name='Roger Novak', Birth_date='23/02/2000', Gender='Male', Smoker='TRUE', Drinker='TRUE', Heart_disease='TRUE', Steps_count='8555', Sleep_hours='4', Stress_score='67'), Row(ID='114', Observation_date='12/02/2022', Full_name='Ronald Johnson', Birth_date='14/08/1985', Gender='Male', Smoker='FALSE', Drinker='TRUE', Heart_disease='TRUE', Steps_count='11081', Sleep_hours='7', Stress_score='22'), Row(ID='115', Observation_date='12/02/2022', Full_name='Susan Mccan', Birth_date='31/07/1980', Gender='Female', Smoker='FALSE', Drinker='TRUE', Heart_disease='TRUE', Steps_count='5110', Sleep_hours='7', Stress_score='24'), Row(ID='116', Observation_date='12/02/2022', Full_name='Lucy Hale', Birth_date='13/12/1952', Gender='Female', Smoker='FALSE', Drinker='FALSE', Heart_disease='TRUE', Steps_count='7984', Sleep_hours='6', Stress_score='5'), Row(ID='117', Observation_date='12/02/2022', Full_name='Melinda King', Birth_date='30/01/2003', Gender='Female', Smoker='FALSE', Drinker='FALSE', Heart_disease='FALSE', Steps_count='12047', Sleep_hours='3', Stress_score='78'), Row(ID='118', Observation_date='12/02/2022', Full_name='Marlene Smith', Birth_date='07/06/1964', Gender='Male', Smoker='TRUE', Drinker='TRUE', Heart_disease='TRUE', Steps_count='2768', Sleep_hours='2', Stress_score='92'), Row(ID='119', Observation_date='12/02/2022', Full_name='David Turner', Birth_date='28/09/1984', Gender='Female', Smoker='TRUE', Drinker='FALSE', Heart_disease='FALSE', Steps_count='8657', Sleep_hours='11', Stress_score='77'), Row(ID='120', Observation_date='12/02/2022', Full_name='Taylor Long', Birth_date='06/08/1973', Gender='Male', Smoker='TRUE', Drinker='TRUE', Heart_disease='TRUE', Steps_count='10169', Sleep_hours='5', Stress_score='6'), Row(ID='121', Observation_date='13/02/2022', Full_name='Zoella Pinksters', Birth_date='14/06/2002', Gender='Female', Smoker='TRUE', Drinker='TRUE', Heart_disease='TRUE', Steps_count='11189', Sleep_hours='9', Stress_score='55'), Row(ID='122', Observation_date='13/02/2022', Full_name='Rick Baster', Birth_date='26/01/1999', Gender='Male', Smoker='TRUE', Drinker='FALSE', Heart_disease='TRUE', Steps_count='10362', Sleep_hours='7', Stress_score='10'), Row(ID='123', Observation_date='13/02/2022', Full_name='Roger Novak', Birth_date='23/02/2000', Gender='Male', Smoker='TRUE', Drinker='TRUE', Heart_disease='TRUE', Steps_count='6710', Sleep_hours='2', Stress_score='13'), Row(ID='124', Observation_date='13/02/2022', Full_name='Ronald Johnson', Birth_date='14/08/1985', Gender='Male', Smoker='FALSE', Drinker='TRUE', Heart_disease='TRUE', Steps_count='3202', Sleep_hours='9', Stress_score='94'), Row(ID='125', Observation_date='13/02/2022', Full_name='Susan Mccan', Birth_date='31/07/1980', Gender='Female', Smoker='FALSE', Drinker='TRUE', Heart_disease='TRUE', Steps_count='2611', Sleep_hours='2', Stress_score='76'), Row(ID='126', Observation_date='13/02/2022', Full_name='Lucy Hale', Birth_date='13/12/1952', Gender='Female', Smoker='FALSE', Drinker='FALSE', Heart_disease='TRUE', Steps_count='8301', Sleep_hours='3', Stress_score='5'), Row(ID='127', Observation_date='13/02/2022', Full_name='Melinda King', Birth_date='30/01/2003', Gender='Female', Smoker='FALSE', Drinker='FALSE', Heart_disease='FALSE', Steps_count='5104', Sleep_hours='5', Stress_score='22'), Row(ID='128', Observation_date='13/02/2022', Full_name='Marlene Smith', Birth_date='07/06/1964', Gender='Female', Smoker='TRUE', Drinker='TRUE', Heart_disease='TRUE', Steps_count='12388', Sleep_hours='7', Stress_score='61'), Row(ID='129', Observation_date='13/02/2022', Full_name='David Turner', Birth_date='28/09/1984', Gender='Male', Smoker='TRUE', Drinker='FALSE', Heart_disease='FALSE', Steps_count='1695', Sleep_hours='3', Stress_score='20'), Row(ID='130', Observation_date='13/02/2022', Full_name='Taylor Long', Birth_date='06/08/1973', Gender='Male', Smoker='TRUE', Drinker='TRUE', Heart_disease='TRUE', Steps_count='2447', Sleep_hours='9', Stress_score='91'), Row(ID='131', Observation_date='14/02/2022', Full_name='Zoella Pinksters', Birth_date='14/06/2002', Gender='Female', Smoker='TRUE', Drinker='TRUE', Heart_disease='TRUE', Steps_count='6629', Sleep_hours='9', Stress_score='63'), Row(ID='132', Observation_date='14/02/2022', Full_name='Rick Baster', Birth_date='26/01/1999', Gender='Male', Smoker='TRUE', Drinker='FALSE', Heart_disease='TRUE', Steps_count='11370', Sleep_hours='6', Stress_score='21'), Row(ID='133', Observation_date='14/02/2022', Full_name='Roger Novak', Birth_date='23/02/2000', Gender='Male', Smoker='TRUE', Drinker='TRUE', Heart_disease='TRUE', Steps_count='14612', Sleep_hours='10', Stress_score='46'), Row(ID='134', Observation_date='14/02/2022', Full_name='Ronald Johnson', Birth_date='14/08/1985', Gender='Male', Smoker='FALSE', Drinker='TRUE', Heart_disease='TRUE', Steps_count='13436', Sleep_hours='8', Stress_score='55'), Row(ID='135', Observation_date='14/02/2022', Full_name='Susan Mccan', Birth_date='31/07/1980', Gender='Female', Smoker='FALSE', Drinker='TRUE', Heart_disease='TRUE', Steps_count='10805', Sleep_hours='2', Stress_score='52'), Row(ID='136', Observation_date='14/02/2022', Full_name='Lucy Hale', Birth_date='13/12/1952', Gender='Female', Smoker='FALSE', Drinker='FALSE', Heart_disease='TRUE', Steps_count='3675', Sleep_hours='1', Stress_score='77'), Row(ID='137', Observation_date='14/02/2022', Full_name='Melinda King', Birth_date='30/01/2003', Gender='Female', Smoker='FALSE', Drinker='FALSE', Heart_disease='FALSE', Steps_count='1234', Sleep_hours='7', Stress_score='37'), Row(ID='138', Observation_date='14/02/2022', Full_name='Marlene Smith', Birth_date='07/06/1964', Gender='Male', Smoker='TRUE', Drinker='TRUE', Heart_disease='TRUE', Steps_count='14501', Sleep_hours='4', Stress_score='63'), Row(ID='139', Observation_date='14/02/2022', Full_name='David Turner', Birth_date='28/09/1984', Gender='Female', Smoker='TRUE', Drinker='FALSE', Heart_disease='FALSE', Steps_count='13056', Sleep_hours='8', Stress_score='8'), Row(ID='140', Observation_date='14/02/2022', Full_name='Taylor Long', Birth_date='06/08/1973', Gender='Male', Smoker='TRUE', Drinker='TRUE', Heart_disease='TRUE', Steps_count='8963', Sleep_hours='10', Stress_score='43'), Row(ID='141', Observation_date='15/02/2022', Full_name='Zoella Pinksters', Birth_date='14/06/2002', Gender='Female', Smoker='TRUE', Drinker='TRUE', Heart_disease='TRUE', Steps_count='11143', Sleep_hours='4', Stress_score='62'), Row(ID='142', Observation_date='15/02/2022', Full_name='Rick Baster', Birth_date='26/01/1999', Gender='Male', Smoker='TRUE', Drinker='FALSE', Heart_disease='TRUE', Steps_count='13179', Sleep_hours='2', Stress_score='99'), Row(ID='143', Observation_date='15/02/2022', Full_name='Roger Novak', Birth_date='23/02/2000', Gender='Male', Smoker='TRUE', Drinker='TRUE', Heart_disease='TRUE', Steps_count='14604', Sleep_hours='11', Stress_score='19'), Row(ID='144', Observation_date='15/02/2022', Full_name='Ronald Johnson', Birth_date='14/08/1985', Gender='Male', Smoker='FALSE', Drinker='TRUE', Heart_disease='TRUE', Steps_count='4693', Sleep_hours='9', Stress_score='76'), Row(ID='145', Observation_date='15/02/2022', Full_name='Susan Mccan', Birth_date='31/07/1980', Gender='Female', Smoker='FALSE', Drinker='TRUE', Heart_disease='TRUE', Steps_count='11216', Sleep_hours='1', Stress_score='15'), Row(ID='146', Observation_date='15/02/2022', Full_name='Lucy Hale', Birth_date='13/12/1952', Gender='Female', Smoker='FALSE', Drinker='FALSE', Heart_disease='TRUE', Steps_count='4417', Sleep_hours='5', Stress_score='87'), Row(ID='147', Observation_date='15/02/2022', Full_name='Melinda King', Birth_date='30/01/2003', Gender='Female', Smoker='FALSE', Drinker='FALSE', Heart_disease='FALSE', Steps_count='10212', Sleep_hours='9', Stress_score='26'), Row(ID='148', Observation_date='15/02/2022', Full_name='Marlene Smith', Birth_date='07/06/1964', Gender='Female', Smoker='TRUE', Drinker='TRUE', Heart_disease='TRUE', Steps_count='3239', Sleep_hours='9', Stress_score='75'), Row(ID='149', Observation_date='15/02/2022', Full_name='David Turner', Birth_date='28/09/1984', Gender='Male', Smoker='TRUE', Drinker='FALSE', Heart_disease='FALSE', Steps_count='9213', Sleep_hours='3', Stress_score='25'), Row(ID='150', Observation_date='15/02/2022', Full_name='Taylor Long', Birth_date='06/08/1973', Gender='Male', Smoker='TRUE', Drinker='TRUE', Heart_disease='TRUE', Steps_count='4598', Sleep_hours='11', Stress_score='61'), Row(ID='151', Observation_date='16/02/2022', Full_name='Zoella Pinksters', Birth_date='14/06/2002', Gender='Female', Smoker='TRUE', Drinker='TRUE', Heart_disease='TRUE', Steps_count='11204', Sleep_hours='11', Stress_score='22'), Row(ID='152', Observation_date='16/02/2022', Full_name='Rick Baster', Birth_date='26/01/1999', Gender='Male', Smoker='TRUE', Drinker='FALSE', Heart_disease='TRUE', Steps_count='2105', Sleep_hours='9', Stress_score='46'), Row(ID='153', Observation_date='16/02/2022', Full_name='Roger Novak', Birth_date='23/02/2000', Gender='Male', Smoker='TRUE', Drinker='TRUE', Heart_disease='TRUE', Steps_count='4233', Sleep_hours='3', Stress_score='85'), Row(ID='154', Observation_date='16/02/2022', Full_name='Ronald Johnson', Birth_date='14/08/1985', Gender='Male', Smoker='FALSE', Drinker='TRUE', Heart_disease='TRUE', Steps_count='14651', Sleep_hours='7', Stress_score='7'), Row(ID='155', Observation_date='16/02/2022', Full_name='Susan Mccan', Birth_date='31/07/1980', Gender='Female', Smoker='FALSE', Drinker='TRUE', Heart_disease='TRUE', Steps_count='8492', Sleep_hours='9', Stress_score='7'), Row(ID='156', Observation_date='16/02/2022', Full_name='Lucy Hale', Birth_date='13/12/1952', Gender='Female', Smoker='FALSE', Drinker='FALSE', Heart_disease='TRUE', Steps_count='14939', Sleep_hours='6', Stress_score='29'), Row(ID='157', Observation_date='16/02/2022', Full_name='Melinda King', Birth_date='30/01/2003', Gender='Female', Smoker='FALSE', Drinker='FALSE', Heart_disease='FALSE', Steps_count='4736', Sleep_hours='5', Stress_score='84'), Row(ID='158', Observation_date='16/02/2022', Full_name='Marlene Smith', Birth_date='07/06/1964', Gender='Male', Smoker='TRUE', Drinker='TRUE', Heart_disease='TRUE', Steps_count='9785', Sleep_hours='1', Stress_score='12'), Row(ID='159', Observation_date='16/02/2022', Full_name='David Turner', Birth_date='28/09/1984', Gender='Female', Smoker='TRUE', Drinker='FALSE', Heart_disease='FALSE', Steps_count='8949', Sleep_hours='10', Stress_score='79'), Row(ID='160', Observation_date='16/02/2022', Full_name='Taylor Long', Birth_date='06/08/1973', Gender='Male', Smoker='TRUE', Drinker='TRUE', Heart_disease='TRUE', Steps_count='7066', Sleep_hours='2', Stress_score='23'), Row(ID='161', Observation_date='17/02/2022', Full_name='Zoella Pinksters', Birth_date='14/06/2002', Gender='Female', Smoker='TRUE', Drinker='TRUE', Heart_disease='TRUE', Steps_count='7914', Sleep_hours='7', Stress_score='68'), Row(ID='162', Observation_date='17/02/2022', Full_name='Rick Baster', Birth_date='26/01/1999', Gender='Male', Smoker='TRUE', Drinker='FALSE', Heart_disease='TRUE', Steps_count='12106', Sleep_hours='2', Stress_score='38'), Row(ID='163', Observation_date='17/02/2022', Full_name='Roger Novak', Birth_date='23/02/2000', Gender='Male', Smoker='TRUE', Drinker='TRUE', Heart_disease='TRUE', Steps_count='7652', Sleep_hours='3', Stress_score='78'), Row(ID='164', Observation_date='17/02/2022', Full_name='Ronald Johnson', Birth_date='14/08/1985', Gender='Male', Smoker='FALSE', Drinker='TRUE', Heart_disease='TRUE', Steps_count='3833', Sleep_hours='6', Stress_score='43'), Row(ID='165', Observation_date='17/02/2022', Full_name='Susan Mccan', Birth_date='31/07/1980', Gender='Female', Smoker='FALSE', Drinker='TRUE', Heart_disease='TRUE', Steps_count='8961', Sleep_hours='1', Stress_score='31'), Row(ID='166', Observation_date='17/02/2022', Full_name='Lucy Hale', Birth_date='13/12/1952', Gender='Female', Smoker='FALSE', Drinker='FALSE', Heart_disease='TRUE', Steps_count='10030', Sleep_hours='7', Stress_score='98'), Row(ID='167', Observation_date='17/02/2022', Full_name='Melinda King', Birth_date='30/01/2003', Gender='Female', Smoker='FALSE', Drinker='FALSE', Heart_disease='FALSE', Steps_count='1927', Sleep_hours='1', Stress_score='21'), Row(ID='168', Observation_date='17/02/2022', Full_name='Marlene Smith', Birth_date='07/06/1964', Gender='Male', Smoker='TRUE', Drinker='TRUE', Heart_disease='TRUE', Steps_count='2995', Sleep_hours='8', Stress_score='13'), Row(ID='169', Observation_date='17/02/2022', Full_name='David Turner', Birth_date='28/09/1984', Gender='Female', Smoker='TRUE', Drinker='FALSE', Heart_disease='FALSE', Steps_count='5250', Sleep_hours='6', Stress_score='70'), Row(ID='170', Observation_date='17/02/2022', Full_name='Taylor Long', Birth_date='06/08/1973', Gender='Male', Smoker='TRUE', Drinker='TRUE', Heart_disease='TRUE', Steps_count='4679', Sleep_hours='7', Stress_score='46'), Row(ID='171', Observation_date='18/02/2022', Full_name='Zoella Pinksters', Birth_date='14/06/2002', Gender='Female', Smoker='TRUE', Drinker='TRUE', Heart_disease='TRUE', Steps_count='2546', Sleep_hours='10', Stress_score='68'), Row(ID='172', Observation_date='18/02/2022', Full_name='Rick Baster', Birth_date='26/01/1999', Gender='Male', Smoker='TRUE', Drinker='FALSE', Heart_disease='TRUE', Steps_count='10995', Sleep_hours='10', Stress_score='16'), Row(ID='173', Observation_date='18/02/2022', Full_name='Roger Novak', Birth_date='23/02/2000', Gender='Male', Smoker='TRUE', Drinker='TRUE', Heart_disease='TRUE', Steps_count='14842', Sleep_hours='5', Stress_score='84'), Row(ID='174', Observation_date='18/02/2022', Full_name='Ronald Johnson', Birth_date='14/08/1985', Gender='Male', Smoker='FALSE', Drinker='TRUE', Heart_disease='TRUE', Steps_count='5916', Sleep_hours='2', Stress_score='35'), Row(ID='175', Observation_date='18/02/2022', Full_name='Susan Mccan', Birth_date='31/07/1980', Gender='Female', Smoker='FALSE', Drinker='TRUE', Heart_disease='TRUE', Steps_count='3248', Sleep_hours='2', Stress_score='44'), Row(ID='176', Observation_date='18/02/2022', Full_name='Lucy Hale', Birth_date='13/12/1952', Gender='Female', Smoker='FALSE', Drinker='FALSE', Heart_disease='TRUE', Steps_count='4978', Sleep_hours='8', Stress_score='56'), Row(ID='177', Observation_date='18/02/2022', Full_name='Melinda King', Birth_date='30/01/2003', Gender='Female', Smoker='FALSE', Drinker='FALSE', Heart_disease='FALSE', Steps_count='1303', Sleep_hours='7', Stress_score='90'), Row(ID='178', Observation_date='18/02/2022', Full_name='Marlene Smith', Birth_date='07/06/1964', Gender='Male', Smoker='TRUE', Drinker='TRUE', Heart_disease='TRUE', Steps_count='1146', Sleep_hours='4', Stress_score='36'), Row(ID='179', Observation_date='18/02/2022', Full_name='David Turner', Birth_date='28/09/1984', Gender='Female', Smoker='TRUE', Drinker='FALSE', Heart_disease='FALSE', Steps_count='13730', Sleep_hours='9', Stress_score='80'), Row(ID='180', Observation_date='18/02/2022', Full_name='Taylor Long', Birth_date='06/08/1973', Gender='Male', Smoker='TRUE', Drinker='TRUE', Heart_disease='TRUE', Steps_count='4408', Sleep_hours='8', Stress_score='88'), Row(ID='181', Observation_date='19/02/2022', Full_name='Zoella Pinksters', Birth_date='14/06/2002', Gender='Female', Smoker='TRUE', Drinker='TRUE', Heart_disease='TRUE', Steps_count='11975', Sleep_hours='6', Stress_score='79'), Row(ID='182', Observation_date='19/02/2022', Full_name='Rick Baster', Birth_date='26/01/1999', Gender='Male', Smoker='TRUE', Drinker='FALSE', Heart_disease='TRUE', Steps_count='12502', Sleep_hours='7', Stress_score='46'), Row(ID='183', Observation_date='19/02/2022', Full_name='Roger Novak', Birth_date='23/02/2000', Gender='Male', Smoker='TRUE', Drinker='TRUE', Heart_disease='TRUE', Steps_count='14263', Sleep_hours='5', Stress_score='36'), Row(ID='184', Observation_date='19/02/2022', Full_name='Ronald Johnson', Birth_date='14/08/1985', Gender='Male', Smoker='FALSE', Drinker='TRUE', Heart_disease='TRUE', Steps_count='11734', Sleep_hours='4', Stress_score='59'), Row(ID='185', Observation_date='19/02/2022', Full_name='Susan Mccan', Birth_date='31/07/1980', Gender='Female', Smoker='FALSE', Drinker='TRUE', Heart_disease='TRUE', Steps_count='4635', Sleep_hours='10', Stress_score='69'), Row(ID='186', Observation_date='19/02/2022', Full_name='Lucy Hale', Birth_date='13/12/1952', Gender='Female', Smoker='FALSE', Drinker='FALSE', Heart_disease='TRUE', Steps_count='5893', Sleep_hours='11', Stress_score='17'), Row(ID='187', Observation_date='19/02/2022', Full_name='Melinda King', Birth_date='30/01/2003', Gender='Female', Smoker='FALSE', Drinker='FALSE', Heart_disease='FALSE', Steps_count='14670', Sleep_hours='3', Stress_score='36'), Row(ID='188', Observation_date='19/02/2022', Full_name='Marlene Smith', Birth_date='07/06/1964', Gender='Male', Smoker='TRUE', Drinker='TRUE', Heart_disease='TRUE', Steps_count='13070', Sleep_hours='4', Stress_score='40'), Row(ID='189', Observation_date='19/02/2022', Full_name='David Turner', Birth_date='28/09/1984', Gender='Female', Smoker='TRUE', Drinker='FALSE', Heart_disease='FALSE', Steps_count='9286', Sleep_hours='10', Stress_score='49'), Row(ID='190', Observation_date='19/02/2022', Full_name='Taylor Long', Birth_date='06/08/1973', Gender='Male', Smoker='TRUE', Drinker='TRUE', Heart_disease='TRUE', Steps_count='4458', Sleep_hours='7', Stress_score='23'), Row(ID='191', Observation_date='20/02/2022', Full_name='Zoella Pinksters', Birth_date='14/06/2002', Gender='Female', Smoker='TRUE', Drinker='TRUE', Heart_disease='TRUE', Steps_count='1242', Sleep_hours='7', Stress_score='93'), Row(ID='192', Observation_date='20/02/2022', Full_name='Rick Baster', Birth_date='26/01/1999', Gender='Male', Smoker='TRUE', Drinker='FALSE', Heart_disease='TRUE', Steps_count='5414', Sleep_hours='7', Stress_score='25'), Row(ID='193', Observation_date='20/02/2022', Full_name='Roger Novak', Birth_date='23/02/2000', Gender='Male', Smoker='TRUE', Drinker='TRUE', Heart_disease='TRUE', Steps_count='3407', Sleep_hours='5', Stress_score='83'), Row(ID='194', Observation_date='20/02/2022', Full_name='Ronald Johnson', Birth_date='14/08/1985', Gender='Male', Smoker='FALSE', Drinker='TRUE', Heart_disease='TRUE', Steps_count='8521', Sleep_hours='7', Stress_score='85'), Row(ID='195', Observation_date='20/02/2022', Full_name='Susan Mccan', Birth_date='31/07/1980', Gender='Female', Smoker='FALSE', Drinker='TRUE', Heart_disease='TRUE', Steps_count='9891', Sleep_hours='4', Stress_score='74'), Row(ID='196', Observation_date='20/02/2022', Full_name='Lucy Hale', Birth_date='13/12/1952', Gender='Female', Smoker='FALSE', Drinker='FALSE', Heart_disease='TRUE', Steps_count='10156', Sleep_hours='3', Stress_score='24'), Row(ID='197', Observation_date='20/02/2022', Full_name='Melinda King', Birth_date='30/01/2003', Gender='Female', Smoker='FALSE', Drinker='FALSE', Heart_disease='FALSE', Steps_count='8858', Sleep_hours='10', Stress_score='21'), Row(ID='198', Observation_date='20/02/2022', Full_name='Marlene Smith', Birth_date='07/06/1964', Gender='Female', Smoker='TRUE', Drinker='TRUE', Heart_disease='TRUE', Steps_count='12353', Sleep_hours='6', Stress_score='75'), Row(ID='199', Observation_date='20/02/2022', Full_name='David Turner', Birth_date='28/09/1984', Gender='Male', Smoker='TRUE', Drinker='FALSE', Heart_disease='FALSE', Steps_count='5103', Sleep_hours='9', Stress_score='45'), Row(ID='200', Observation_date='20/02/2022', Full_name='Taylor Long', Birth_date='06/08/1973', Gender='Male', Smoker='TRUE', Drinker='TRUE', Heart_disease='TRUE', Steps_count='8870', Sleep_hours='5', Stress_score='17'), Row(ID='201', Observation_date='21/02/2022', Full_name='Zoella Pinksters', Birth_date='14/06/2002', Gender='Female', Smoker='TRUE', Drinker='TRUE', Heart_disease='TRUE', Steps_count='8251', Sleep_hours='4', Stress_score='67'), Row(ID='202', Observation_date='21/02/2022', Full_name='Rick Baster', Birth_date='26/01/1999', Gender='Male', Smoker='TRUE', Drinker='FALSE', Heart_disease='TRUE', Steps_count='13924', Sleep_hours='1', Stress_score='14'), Row(ID='203', Observation_date='21/02/2022', Full_name='Roger Novak', Birth_date='23/02/2000', Gender='Male', Smoker='TRUE', Drinker='TRUE', Heart_disease='TRUE', Steps_count='1662', Sleep_hours='4', Stress_score='5'), Row(ID='204', Observation_date='21/02/2022', Full_name='Ronald Johnson', Birth_date='14/08/1985', Gender='Male', Smoker='FALSE', Drinker='TRUE', Heart_disease='TRUE', Steps_count='13728', Sleep_hours='7', Stress_score='79'), Row(ID='205', Observation_date='21/02/2022', Full_name='Susan Mccan', Birth_date='31/07/1980', Gender='Female', Smoker='FALSE', Drinker='TRUE', Heart_disease='TRUE', Steps_count='13339', Sleep_hours='1', Stress_score='92'), Row(ID='206', Observation_date='21/02/2022', Full_name='Lucy Hale', Birth_date='13/12/1952', Gender='Female', Smoker='FALSE', Drinker='FALSE', Heart_disease='TRUE', Steps_count='8135', Sleep_hours='1', Stress_score='7'), Row(ID='207', Observation_date='21/02/2022', Full_name='Melinda King', Birth_date='30/01/2003', Gender='Female', Smoker='FALSE', Drinker='FALSE', Heart_disease='FALSE', Steps_count='10804', Sleep_hours='5', Stress_score='62'), Row(ID='208', Observation_date='21/02/2022', Full_name='Marlene Smith', Birth_date='07/06/1964', Gender='Male', Smoker='TRUE', Drinker='TRUE', Heart_disease='TRUE', Steps_count='10093', Sleep_hours='2', Stress_score='51'), Row(ID='209', Observation_date='21/02/2022', Full_name='David Turner', Birth_date='28/09/1984', Gender='Female', Smoker='TRUE', Drinker='FALSE', Heart_disease='FALSE', Steps_count='14530', Sleep_hours='5', Stress_score='63'), Row(ID='210', Observation_date='21/02/2022', Full_name='Taylor Long', Birth_date='06/08/1973', Gender='Male', Smoker='TRUE', Drinker='TRUE', Heart_disease='TRUE', Steps_count='13245', Sleep_hours='2', Stress_score='50'), Row(ID='211', Observation_date='22/02/2022', Full_name='Zoella Pinksters', Birth_date='14/06/2002', Gender='Female', Smoker='TRUE', Drinker='TRUE', Heart_disease='TRUE', Steps_count='1421', Sleep_hours='10', Stress_score='38'), Row(ID='212', Observation_date='22/02/2022', Full_name='Rick Baster', Birth_date='26/01/1999', Gender='Male', Smoker='TRUE', Drinker='FALSE', Heart_disease='TRUE', Steps_count='9015', Sleep_hours='2', Stress_score='48'), Row(ID='213', Observation_date='22/02/2022', Full_name='Roger Novak', Birth_date='23/02/2000', Gender='Male', Smoker='TRUE', Drinker='TRUE', Heart_disease='TRUE', Steps_count='12491', Sleep_hours='3', Stress_score='32'), Row(ID='214', Observation_date='22/02/2022', Full_name='Ronald Johnson', Birth_date='14/08/1985', Gender='Male', Smoker='FALSE', Drinker='TRUE', Heart_disease='TRUE', Steps_count='7862', Sleep_hours='2', Stress_score='91'), Row(ID='215', Observation_date='22/02/2022', Full_name='Susan Mccan', Birth_date='31/07/1980', Gender='Female', Smoker='FALSE', Drinker='TRUE', Heart_disease='TRUE', Steps_count='14519', Sleep_hours='7', Stress_score='43'), Row(ID='216', Observation_date='22/02/2022', Full_name='Lucy Hale', Birth_date='13/12/1952', Gender='Female', Smoker='FALSE', Drinker='FALSE', Heart_disease='TRUE', Steps_count='13876', Sleep_hours='11', Stress_score='22'), Row(ID='217', Observation_date='22/02/2022', Full_name='Melinda King', Birth_date='30/01/2003', Gender='Female', Smoker='FALSE', Drinker='FALSE', Heart_disease='FALSE', Steps_count='5881', Sleep_hours='8', Stress_score='2'), Row(ID='218', Observation_date='22/02/2022', Full_name='Marlene Smith', Birth_date='07/06/1964', Gender='Male', Smoker='TRUE', Drinker='TRUE', Heart_disease='TRUE', Steps_count='5499', Sleep_hours='10', Stress_score='19'), Row(ID='219', Observation_date='22/02/2022', Full_name='David Turner', Birth_date='28/09/1984', Gender='Female', Smoker='TRUE', Drinker='FALSE', Heart_disease='FALSE', Steps_count='8886', Sleep_hours='7', Stress_score='73'), Row(ID='220', Observation_date='23/02/2022', Full_name='Taylor Long', Birth_date='06/08/1973', Gender='Male', Smoker='TRUE', Drinker='TRUE', Heart_disease='TRUE', Steps_count='4759', Sleep_hours='1', Stress_score='15'), Row(ID='221', Observation_date='23/02/2022', Full_name='Zoella Pinksters', Birth_date='14/06/2002', Gender='Female', Smoker='TRUE', Drinker='TRUE', Heart_disease='TRUE', Steps_count='12973', Sleep_hours='5', Stress_score='63'), Row(ID='222', Observation_date='23/02/2022', Full_name='Rick Baster', Birth_date='26/01/1999', Gender='Male', Smoker='TRUE', Drinker='FALSE', Heart_disease='TRUE', Steps_count='9793', Sleep_hours='9', Stress_score='80'), Row(ID='223', Observation_date='23/02/2022', Full_name='Roger Novak', Birth_date='23/02/2000', Gender='Male', Smoker='TRUE', Drinker='TRUE', Heart_disease='TRUE', Steps_count='8561', Sleep_hours='9', Stress_score='63'), Row(ID='224', Observation_date='23/02/2022', Full_name='Ronald Johnson', Birth_date='14/08/1985', Gender='Male', Smoker='FALSE', Drinker='TRUE', Heart_disease='TRUE', Steps_count='4835', Sleep_hours='10', Stress_score='47'), Row(ID='225', Observation_date='23/02/2022', Full_name='Susan Mccan', Birth_date='31/07/1980', Gender='Female', Smoker='FALSE', Drinker='TRUE', Heart_disease='TRUE', Steps_count='8861', Sleep_hours='1', Stress_score='53'), Row(ID='226', Observation_date='23/02/2022', Full_name='Lucy Hale', Birth_date='13/12/1952', Gender='Female', Smoker='FALSE', Drinker='FALSE', Heart_disease='TRUE', Steps_count='4824', Sleep_hours='4', Stress_score='44'), Row(ID='227', Observation_date='23/02/2022', Full_name='Melinda King', Birth_date='30/01/2003', Gender='Female', Smoker='FALSE', Drinker='FALSE', Heart_disease='FALSE', Steps_count='11955', Sleep_hours='5', Stress_score='32'), Row(ID='228', Observation_date='23/02/2022', Full_name='Marlene Smith', Birth_date='07/06/1964', Gender='Male', Smoker='TRUE', Drinker='TRUE', Heart_disease='TRUE', Steps_count='5413', Sleep_hours='10', Stress_score='99'), Row(ID='229', Observation_date='23/02/2022', Full_name='David Turner', Birth_date='28/09/1984', Gender='Female', Smoker='TRUE', Drinker='FALSE', Heart_disease='FALSE', Steps_count='6017', Sleep_hours='10', Stress_score='60'), Row(ID='230', Observation_date='24/02/2022', Full_name='Taylor Long', Birth_date='06/08/1973', Gender='Male', Smoker='TRUE', Drinker='TRUE', Heart_disease='TRUE', Steps_count='6215', Sleep_hours='11', Stress_score='20'), Row(ID='231', Observation_date='24/02/2022', Full_name='Zoella Pinksters', Birth_date='14/06/2002', Gender='Female', Smoker='TRUE', Drinker='TRUE', Heart_disease='TRUE', Steps_count='10709', Sleep_hours='9', Stress_score='35'), Row(ID='232', Observation_date='24/02/2022', Full_name='Rick Baster', Birth_date='26/01/1999', Gender='Male', Smoker='TRUE', Drinker='FALSE', Heart_disease='TRUE', Steps_count='5128', Sleep_hours='2', Stress_score='15'), Row(ID='233', Observation_date='24/02/2022', Full_name='Roger Novak', Birth_date='23/02/2000', Gender='Male', Smoker='TRUE', Drinker='TRUE', Heart_disease='TRUE', Steps_count='8380', Sleep_hours='7', Stress_score='91'), Row(ID='234', Observation_date='24/02/2022', Full_name='Ronald Johnson', Birth_date='14/08/1985', Gender='Male', Smoker='FALSE', Drinker='TRUE', Heart_disease='TRUE', Steps_count='1724', Sleep_hours='5', Stress_score='64'), Row(ID='235', Observation_date='24/02/2022', Full_name='Susan Mccan', Birth_date='31/07/1980', Gender='Female', Smoker='FALSE', Drinker='TRUE', Heart_disease='TRUE', Steps_count='11620', Sleep_hours='5', Stress_score='21'), Row(ID='236', Observation_date='24/02/2022', Full_name='Lucy Hale', Birth_date='13/12/1952', Gender='Female', Smoker='FALSE', Drinker='FALSE', Heart_disease='TRUE', Steps_count='2832', Sleep_hours='5', Stress_score='66'), Row(ID='237', Observation_date='24/02/2022', Full_name='Melinda King', Birth_date='30/01/2003', Gender='Female', Smoker='FALSE', Drinker='FALSE', Heart_disease='FALSE', Steps_count='5937', Sleep_hours='4', Stress_score='42'), Row(ID='238', Observation_date='24/02/2022', Full_name='Marlene Smith', Birth_date='07/06/1964', Gender='Male', Smoker='TRUE', Drinker='TRUE', Heart_disease='TRUE', Steps_count='12088', Sleep_hours='9', Stress_score='57'), Row(ID='239', Observation_date='24/02/2022', Full_name='David Turner', Birth_date='28/09/1984', Gender='Female', Smoker='TRUE', Drinker='FALSE', Heart_disease='FALSE', Steps_count='10123', Sleep_hours='4', Stress_score='66'), Row(ID='240', Observation_date='25/02/2022', Full_name='Taylor Long', Birth_date='06/08/1973', Gender='Male', Smoker='TRUE', Drinker='TRUE', Heart_disease='TRUE', Steps_count='5847', Sleep_hours='10', Stress_score='62'), Row(ID='241', Observation_date='26/02/2022', Full_name='Zoella Pinksters', Birth_date='14/06/2002', Gender='Female', Smoker='TRUE', Drinker='TRUE', Heart_disease='TRUE', Steps_count='5164', Sleep_hours='7', Stress_score='55'), Row(ID='242', Observation_date='26/02/2022', Full_name='Rick Baster', Birth_date='26/01/1999', Gender='Male', Smoker='TRUE', Drinker='FALSE', Heart_disease='TRUE', Steps_count='8353', Sleep_hours='1', Stress_score='84'), Row(ID='243', Observation_date='26/02/2022', Full_name='Roger Novak', Birth_date='23/02/2000', Gender='Male', Smoker='TRUE', Drinker='TRUE', Heart_disease='TRUE', Steps_count='14746', Sleep_hours='10', Stress_score='77'), Row(ID='244', Observation_date='26/02/2022', Full_name='Ronald Johnson', Birth_date='14/08/1985', Gender='Male', Smoker='FALSE', Drinker='TRUE', Heart_disease='TRUE', Steps_count='5368', Sleep_hours='9', Stress_score='98'), Row(ID='245', Observation_date='26/02/2022', Full_name='Susan Mccan', Birth_date='31/07/1980', Gender='Female', Smoker='FALSE', Drinker='TRUE', Heart_disease='TRUE', Steps_count='3242', Sleep_hours='9', Stress_score='85'), Row(ID='246', Observation_date='26/02/2022', Full_name='Lucy Hale', Birth_date='13/12/1952', Gender='Female', Smoker='FALSE', Drinker='FALSE', Heart_disease='TRUE', Steps_count='3189', Sleep_hours='5', Stress_score='45'), Row(ID='247', Observation_date='26/02/2022', Full_name='Melinda King', Birth_date='30/01/2003', Gender='Female', Smoker='FALSE', Drinker='FALSE', Heart_disease='FALSE', Steps_count='7919', Sleep_hours='4', Stress_score='92'), Row(ID='248', Observation_date='26/02/2022', Full_name='Marlene Smith', Birth_date='07/06/1964', Gender='Male', Smoker='TRUE', Drinker='TRUE', Heart_disease='TRUE', Steps_count='13676', Sleep_hours='4', Stress_score='91'), Row(ID='249', Observation_date='26/02/2022', Full_name='David Turner', Birth_date='28/09/1984', Gender='Female', Smoker='TRUE', Drinker='FALSE', Heart_disease='FALSE', Steps_count='12774', Sleep_hours='11', Stress_score='42'), Row(ID='250', Observation_date='26/02/2022', Full_name='Taylor Long', Birth_date='06/08/1973', Gender='Male', Smoker='TRUE', Drinker='TRUE', Heart_disease='TRUE', Steps_count='11358', Sleep_hours='4', Stress_score='53'), Row(ID='251', Observation_date='27/02/2022', Full_name='Zoella Pinksters', Birth_date='14/06/2002', Gender='Female', Smoker='TRUE', Drinker='TRUE', Heart_disease='TRUE', Steps_count='6269', Sleep_hours='6', Stress_score='22'), Row(ID='252', Observation_date='27/02/2022', Full_name='Rick Baster', Birth_date='26/01/1999', Gender='Male', Smoker='TRUE', Drinker='FALSE', Heart_disease='TRUE', Steps_count='11558', Sleep_hours='1', Stress_score='2'), Row(ID='253', Observation_date='27/02/2022', Full_name='Roger Novak', Birth_date='23/02/2000', Gender='Male', Smoker='TRUE', Drinker='TRUE', Heart_disease='TRUE', Steps_count='9782', Sleep_hours='11', Stress_score='3'), Row(ID='254', Observation_date='27/02/2022', Full_name='Ronald Johnson', Birth_date='14/08/1985', Gender='Male', Smoker='FALSE', Drinker='TRUE', Heart_disease='TRUE', Steps_count='10426', Sleep_hours='8', Stress_score='31'), Row(ID='255', Observation_date='27/02/2022', Full_name='Susan Mccan', Birth_date='31/07/1980', Gender='Female', Smoker='FALSE', Drinker='TRUE', Heart_disease='TRUE', Steps_count='5568', Sleep_hours='1', Stress_score='53'), Row(ID='256', Observation_date='27/02/2022', Full_name='Lucy Hale', Birth_date='13/12/1952', Gender='Female', Smoker='FALSE', Drinker='FALSE', Heart_disease='TRUE', Steps_count='1670', Sleep_hours='7', Stress_score='86'), Row(ID='257', Observation_date='27/02/2022', Full_name='Melinda King', Birth_date='30/01/2003', Gender='Female', Smoker='FALSE', Drinker='FALSE', Heart_disease='FALSE', Steps_count='12692', Sleep_hours='3', Stress_score='50'), Row(ID='258', Observation_date='27/02/2022', Full_name='Marlene Smith', Birth_date='07/06/1964', Gender='Male', Smoker='TRUE', Drinker='TRUE', Heart_disease='TRUE', Steps_count='9870', Sleep_hours='6', Stress_score='58'), Row(ID='259', Observation_date='27/02/2022', Full_name='David Turner', Birth_date='28/09/1984', Gender='Female', Smoker='TRUE', Drinker='FALSE', Heart_disease='FALSE', Steps_count='9014', Sleep_hours='7', Stress_score='27'), Row(ID='260', Observation_date='27/02/2022', Full_name='Taylor Long', Birth_date='06/08/1973', Gender='Male', Smoker='TRUE', Drinker='TRUE', Heart_disease='TRUE', Steps_count='1469', Sleep_hours='8', Stress_score='49'), Row(ID='261', Observation_date='28/02/2022', Full_name='Zoella Pinksters', Birth_date='14/06/2002', Gender='Female', Smoker='TRUE', Drinker='TRUE', Heart_disease='TRUE', Steps_count='12075', Sleep_hours='7', Stress_score='75'), Row(ID='262', Observation_date='28/02/2022', Full_name='Rick Baster', Birth_date='26/01/1999', Gender='Male', Smoker='TRUE', Drinker='FALSE', Heart_disease='TRUE', Steps_count='13766', Sleep_hours='6', Stress_score='62'), Row(ID='263', Observation_date='28/02/2022', Full_name='Roger Novak', Birth_date='23/02/2000', Gender='Male', Smoker='TRUE', Drinker='TRUE', Heart_disease='TRUE', Steps_count='7982', Sleep_hours='4', Stress_score='90'), Row(ID='264', Observation_date='28/02/2022', Full_name='Ronald Johnson', Birth_date='14/08/1985', Gender='Male', Smoker='FALSE', Drinker='TRUE', Heart_disease='TRUE', Steps_count='10808', Sleep_hours='6', Stress_score='43'), Row(ID='265', Observation_date='28/02/2022', Full_name='Susan Mccan', Birth_date='31/07/1980', Gender='Female', Smoker='FALSE', Drinker='TRUE', Heart_disease='TRUE', Steps_count='14174', Sleep_hours='4', Stress_score='15'), Row(ID='266', Observation_date='28/02/2022', Full_name='Lucy Hale', Birth_date='13/12/1952', Gender='Female', Smoker='FALSE', Drinker='FALSE', Heart_disease='TRUE', Steps_count='4122', Sleep_hours='9', Stress_score='23'), Row(ID='267', Observation_date='28/02/2022', Full_name='Melinda King', Birth_date='30/01/2003', Gender='Female', Smoker='FALSE', Drinker='FALSE', Heart_disease='FALSE', Steps_count='9742', Sleep_hours='7', Stress_score='57'), Row(ID='268', Observation_date='28/02/2022', Full_name='Marlene Smith', Birth_date='07/06/1964', Gender='Male', Smoker='TRUE', Drinker='TRUE', Heart_disease='TRUE', Steps_count='10671', Sleep_hours='10', Stress_score='68'), Row(ID='269', Observation_date='28/02/2022', Full_name='David Turner', Birth_date='28/09/1984', Gender='Female', Smoker='TRUE', Drinker='FALSE', Heart_disease='FALSE', Steps_count='7006', Sleep_hours='9', Stress_score='70'), Row(ID='270', Observation_date='28/02/2022', Full_name='Taylor Long', Birth_date='06/08/1973', Gender='Male', Smoker='TRUE', Drinker='TRUE', Heart_disease='TRUE', Steps_count='2879', Sleep_hours='2', Stress_score='77')]\n"
     ]
    }
   ],
   "source": [
    "rdd = df.rdd\n",
    "print(rdd.collect())"
   ]
  },
  {
   "cell_type": "code",
   "execution_count": 59,
   "id": "d9311a0e",
   "metadata": {},
   "outputs": [
    {
     "name": "stdout",
     "output_type": "stream",
     "text": [
      "270\n"
     ]
    }
   ],
   "source": [
    "print(rdd.count())"
   ]
  },
  {
   "cell_type": "code",
   "execution_count": 60,
   "id": "d3b22da8",
   "metadata": {},
   "outputs": [
    {
     "name": "stdout",
     "output_type": "stream",
     "text": [
      "Key:Zoella Pinksters, Value:6876\n",
      "Key:Rick Baster, Value:4148\n",
      "Key:Roger Novak, Value:4851\n",
      "Key:Ronald Johnson, Value:4066\n",
      "Key:Susan Mccan, Value:6329\n",
      "Key:Lucy Hale, Value:10743\n",
      "Key:Melinda King, Value:11421\n",
      "Key:Marlene Smith, Value:5051\n",
      "Key:David Turner, Value:4329\n",
      "Key:Taylor Long, Value:1518\n",
      "Key:Zoella Pinksters, Value:6499\n",
      "Key:Rick Baster, Value:1704\n",
      "Key:Roger Novak, Value:2883\n",
      "Key:Ronald Johnson, Value:7671\n",
      "Key:Susan Mccan, Value:3747\n",
      "Key:Lucy Hale, Value:11895\n",
      "Key:Melinda King, Value:6190\n",
      "Key:Marlene Smith, Value:4646\n",
      "Key:David Turner, Value:8341\n",
      "Key:Taylor Long, Value:12393\n",
      "Key:Zoella Pinksters, Value:9888\n",
      "Key:Rick Baster, Value:8591\n",
      "Key:Roger Novak, Value:14991\n",
      "Key:Ronald Johnson, Value:2631\n",
      "Key:Susan Mccan, Value:5036\n",
      "Key:Lucy Hale, Value:9657\n",
      "Key:Melinda King, Value:14934\n",
      "Key:Marlene Smith, Value:8206\n",
      "Key:David Turner, Value:5177\n",
      "Key:Taylor Long, Value:7904\n",
      "Key:Zoella Pinksters, Value:1217\n",
      "Key:Rick Baster, Value:4565\n",
      "Key:Roger Novak, Value:6959\n",
      "Key:Ronald Johnson, Value:7073\n",
      "Key:Susan Mccan, Value:3869\n",
      "Key:Lucy Hale, Value:10615\n",
      "Key:Melinda King, Value:5621\n",
      "Key:Marlene Smith, Value:1267\n",
      "Key:David Turner, Value:14785\n",
      "Key:Taylor Long, Value:10315\n",
      "Key:Zoella Pinksters, Value:11998\n",
      "Key:Rick Baster, Value:5119\n",
      "Key:Roger Novak, Value:1048\n",
      "Key:Ronald Johnson, Value:11328\n",
      "Key:Susan Mccan, Value:7876\n",
      "Key:Lucy Hale, Value:10244\n",
      "Key:Melinda King, Value:1624\n",
      "Key:Marlene Smith, Value:7591\n",
      "Key:David Turner, Value:13307\n",
      "Key:Taylor Long, Value:7006\n",
      "Key:Zoella Pinksters, Value:5730\n",
      "Key:Rick Baster, Value:10188\n",
      "Key:Roger Novak, Value:12908\n",
      "Key:Ronald Johnson, Value:4977\n",
      "Key:Susan Mccan, Value:3501\n",
      "Key:Lucy Hale, Value:3177\n",
      "Key:Melinda King, Value:8305\n",
      "Key:Marlene Smith, Value:9446\n",
      "Key:David Turner, Value:3761\n",
      "Key:Taylor Long, Value:10475\n",
      "Key:Zoella Pinksters, Value:5789\n",
      "Key:Rick Baster, Value:14331\n",
      "Key:Roger Novak, Value:14651\n",
      "Key:Ronald Johnson, Value:14327\n",
      "Key:Susan Mccan, Value:3481\n",
      "Key:Lucy Hale, Value:13199\n",
      "Key:Melinda King, Value:1417\n",
      "Key:Marlene Smith, Value:3365\n",
      "Key:David Turner, Value:5108\n",
      "Key:Taylor Long, Value:11289\n",
      "Key:Zoella Pinksters, Value:13437\n",
      "Key:Rick Baster, Value:10403\n",
      "Key:Roger Novak, Value:10541\n",
      "Key:Ronald Johnson, Value:6389\n",
      "Key:Susan Mccan, Value:8732\n",
      "Key:Lucy Hale, Value:6180\n",
      "Key:Melinda King, Value:1717\n",
      "Key:Marlene Smith, Value:2336\n",
      "Key:David Turner, Value:11924\n",
      "Key:Taylor Long, Value:4469\n",
      "Key:Zoella Pinksters, Value:6918\n",
      "Key:Rick Baster, Value:10494\n",
      "Key:Roger Novak, Value:3972\n",
      "Key:Ronald Johnson, Value:14274\n",
      "Key:Susan Mccan, Value:2338\n",
      "Key:Lucy Hale, Value:13101\n",
      "Key:Melinda King, Value:14237\n",
      "Key:Marlene Smith, Value:14354\n",
      "Key:David Turner, Value:5520\n",
      "Key:Taylor Long, Value:12089\n",
      "Key:Zoella Pinksters, Value:9536\n",
      "Key:Rick Baster, Value:14684\n",
      "Key:Roger Novak, Value:8235\n",
      "Key:Ronald Johnson, Value:4811\n",
      "Key:Susan Mccan, Value:5150\n",
      "Key:Lucy Hale, Value:3268\n",
      "Key:Melinda King, Value:4247\n",
      "Key:Marlene Smith, Value:8187\n",
      "Key:David Turner, Value:10395\n",
      "Key:Taylor Long, Value:1351\n",
      "Key:Zoella Pinksters, Value:1270\n",
      "Key:Rick Baster, Value:12991\n",
      "Key:Roger Novak, Value:11203\n",
      "Key:Ronald Johnson, Value:8103\n",
      "Key:Susan Mccan, Value:4316\n",
      "Key:Lucy Hale, Value:12732\n",
      "Key:Melinda King, Value:7711\n",
      "Key:Marlene Smith, Value:4411\n",
      "Key:David Turner, Value:10993\n",
      "Key:Taylor Long, Value:9212\n",
      "Key:Zoella Pinksters, Value:7525\n",
      "Key:Rick Baster, Value:9737\n",
      "Key:Roger Novak, Value:8555\n",
      "Key:Ronald Johnson, Value:11081\n",
      "Key:Susan Mccan, Value:5110\n",
      "Key:Lucy Hale, Value:7984\n",
      "Key:Melinda King, Value:12047\n",
      "Key:Marlene Smith, Value:2768\n",
      "Key:David Turner, Value:8657\n",
      "Key:Taylor Long, Value:10169\n",
      "Key:Zoella Pinksters, Value:11189\n",
      "Key:Rick Baster, Value:10362\n",
      "Key:Roger Novak, Value:6710\n",
      "Key:Ronald Johnson, Value:3202\n",
      "Key:Susan Mccan, Value:2611\n",
      "Key:Lucy Hale, Value:8301\n",
      "Key:Melinda King, Value:5104\n",
      "Key:Marlene Smith, Value:12388\n",
      "Key:David Turner, Value:1695\n",
      "Key:Taylor Long, Value:2447\n",
      "Key:Zoella Pinksters, Value:6629\n",
      "Key:Rick Baster, Value:11370\n",
      "Key:Roger Novak, Value:14612\n",
      "Key:Ronald Johnson, Value:13436\n",
      "Key:Susan Mccan, Value:10805\n",
      "Key:Lucy Hale, Value:3675\n",
      "Key:Melinda King, Value:1234\n",
      "Key:Marlene Smith, Value:14501\n",
      "Key:David Turner, Value:13056\n",
      "Key:Taylor Long, Value:8963\n",
      "Key:Zoella Pinksters, Value:11143\n",
      "Key:Rick Baster, Value:13179\n",
      "Key:Roger Novak, Value:14604\n",
      "Key:Ronald Johnson, Value:4693\n",
      "Key:Susan Mccan, Value:11216\n",
      "Key:Lucy Hale, Value:4417\n",
      "Key:Melinda King, Value:10212\n",
      "Key:Marlene Smith, Value:3239\n",
      "Key:David Turner, Value:9213\n",
      "Key:Taylor Long, Value:4598\n",
      "Key:Zoella Pinksters, Value:11204\n",
      "Key:Rick Baster, Value:2105\n",
      "Key:Roger Novak, Value:4233\n",
      "Key:Ronald Johnson, Value:14651\n",
      "Key:Susan Mccan, Value:8492\n",
      "Key:Lucy Hale, Value:14939\n",
      "Key:Melinda King, Value:4736\n",
      "Key:Marlene Smith, Value:9785\n",
      "Key:David Turner, Value:8949\n",
      "Key:Taylor Long, Value:7066\n",
      "Key:Zoella Pinksters, Value:7914\n",
      "Key:Rick Baster, Value:12106\n",
      "Key:Roger Novak, Value:7652\n",
      "Key:Ronald Johnson, Value:3833\n",
      "Key:Susan Mccan, Value:8961\n",
      "Key:Lucy Hale, Value:10030\n",
      "Key:Melinda King, Value:1927\n",
      "Key:Marlene Smith, Value:2995\n",
      "Key:David Turner, Value:5250\n",
      "Key:Taylor Long, Value:4679\n",
      "Key:Zoella Pinksters, Value:2546\n",
      "Key:Rick Baster, Value:10995\n",
      "Key:Roger Novak, Value:14842\n",
      "Key:Ronald Johnson, Value:5916\n",
      "Key:Susan Mccan, Value:3248\n",
      "Key:Lucy Hale, Value:4978\n",
      "Key:Melinda King, Value:1303\n",
      "Key:Marlene Smith, Value:1146\n",
      "Key:David Turner, Value:13730\n",
      "Key:Taylor Long, Value:4408\n",
      "Key:Zoella Pinksters, Value:11975\n",
      "Key:Rick Baster, Value:12502\n",
      "Key:Roger Novak, Value:14263\n",
      "Key:Ronald Johnson, Value:11734\n",
      "Key:Susan Mccan, Value:4635\n",
      "Key:Lucy Hale, Value:5893\n",
      "Key:Melinda King, Value:14670\n",
      "Key:Marlene Smith, Value:13070\n",
      "Key:David Turner, Value:9286\n",
      "Key:Taylor Long, Value:4458\n",
      "Key:Zoella Pinksters, Value:1242\n",
      "Key:Rick Baster, Value:5414\n",
      "Key:Roger Novak, Value:3407\n",
      "Key:Ronald Johnson, Value:8521\n",
      "Key:Susan Mccan, Value:9891\n",
      "Key:Lucy Hale, Value:10156\n",
      "Key:Melinda King, Value:8858\n",
      "Key:Marlene Smith, Value:12353\n",
      "Key:David Turner, Value:5103\n",
      "Key:Taylor Long, Value:8870\n",
      "Key:Zoella Pinksters, Value:8251\n",
      "Key:Rick Baster, Value:13924\n",
      "Key:Roger Novak, Value:1662\n",
      "Key:Ronald Johnson, Value:13728\n",
      "Key:Susan Mccan, Value:13339\n",
      "Key:Lucy Hale, Value:8135\n",
      "Key:Melinda King, Value:10804\n",
      "Key:Marlene Smith, Value:10093\n",
      "Key:David Turner, Value:14530\n",
      "Key:Taylor Long, Value:13245\n",
      "Key:Zoella Pinksters, Value:1421\n",
      "Key:Rick Baster, Value:9015\n",
      "Key:Roger Novak, Value:12491\n",
      "Key:Ronald Johnson, Value:7862\n",
      "Key:Susan Mccan, Value:14519\n",
      "Key:Lucy Hale, Value:13876\n",
      "Key:Melinda King, Value:5881\n",
      "Key:Marlene Smith, Value:5499\n",
      "Key:David Turner, Value:8886\n",
      "Key:Taylor Long, Value:4759\n",
      "Key:Zoella Pinksters, Value:12973\n",
      "Key:Rick Baster, Value:9793\n",
      "Key:Roger Novak, Value:8561\n",
      "Key:Ronald Johnson, Value:4835\n",
      "Key:Susan Mccan, Value:8861\n",
      "Key:Lucy Hale, Value:4824\n",
      "Key:Melinda King, Value:11955\n",
      "Key:Marlene Smith, Value:5413\n",
      "Key:David Turner, Value:6017\n",
      "Key:Taylor Long, Value:6215\n",
      "Key:Zoella Pinksters, Value:10709\n",
      "Key:Rick Baster, Value:5128\n",
      "Key:Roger Novak, Value:8380\n",
      "Key:Ronald Johnson, Value:1724\n",
      "Key:Susan Mccan, Value:11620\n",
      "Key:Lucy Hale, Value:2832\n",
      "Key:Melinda King, Value:5937\n",
      "Key:Marlene Smith, Value:12088\n",
      "Key:David Turner, Value:10123\n",
      "Key:Taylor Long, Value:5847\n",
      "Key:Zoella Pinksters, Value:5164\n",
      "Key:Rick Baster, Value:8353\n",
      "Key:Roger Novak, Value:14746\n",
      "Key:Ronald Johnson, Value:5368\n",
      "Key:Susan Mccan, Value:3242\n",
      "Key:Lucy Hale, Value:3189\n",
      "Key:Melinda King, Value:7919\n",
      "Key:Marlene Smith, Value:13676\n",
      "Key:David Turner, Value:12774\n",
      "Key:Taylor Long, Value:11358\n",
      "Key:Zoella Pinksters, Value:6269\n",
      "Key:Rick Baster, Value:11558\n",
      "Key:Roger Novak, Value:9782\n",
      "Key:Ronald Johnson, Value:10426\n",
      "Key:Susan Mccan, Value:5568\n",
      "Key:Lucy Hale, Value:1670\n",
      "Key:Melinda King, Value:12692\n",
      "Key:Marlene Smith, Value:9870\n",
      "Key:David Turner, Value:9014\n",
      "Key:Taylor Long, Value:1469\n",
      "Key:Zoella Pinksters, Value:12075\n",
      "Key:Rick Baster, Value:13766\n",
      "Key:Roger Novak, Value:7982\n",
      "Key:Ronald Johnson, Value:10808\n",
      "Key:Susan Mccan, Value:14174\n",
      "Key:Lucy Hale, Value:4122\n",
      "Key:Melinda King, Value:9742\n",
      "Key:Marlene Smith, Value:10671\n",
      "Key:David Turner, Value:7006\n",
      "Key:Taylor Long, Value:2879\n"
     ]
    }
   ],
   "source": [
    "#Apply map() transformation to count users' total steps\n",
    "total_steps = rdd.map(lambda x: ([x[2],x[8]]))\n",
    "data = total_steps.collect()\n",
    "for f in data:\n",
    "    print(\"Key:\"+ str(f[0]) +\", Value:\"+f[1])"
   ]
  },
  {
   "cell_type": "code",
   "execution_count": 61,
   "id": "b98b735f",
   "metadata": {},
   "outputs": [],
   "source": [
    "## Retrieve users with heart diseases\n",
    "patients = rdd.filter(lambda x : 'TRUE' in x[7])"
   ]
  },
  {
   "cell_type": "code",
   "execution_count": 115,
   "id": "620d0f5f",
   "metadata": {},
   "outputs": [
    {
     "data": {
      "text/plain": [
       "216"
      ]
     },
     "execution_count": 115,
     "metadata": {},
     "output_type": "execute_result"
    }
   ],
   "source": [
    "patients.collect()\n",
    "patients.count()"
   ]
  },
  {
   "cell_type": "code",
   "execution_count": 129,
   "id": "81d0714a",
   "metadata": {},
   "outputs": [],
   "source": [
    "# Task1: Categorize users based on step counts\n",
    "super_users = rdd.filter(lambda x: int(x[8]) > 12000)\n",
    "fair_users = rdd.filter(lambda x: 12000 > int(x[8]) > 7500)\n",
    "light_users = rdd.filter(lambda x: int(x[8]) < 7500)\n",
    "super_patients = super_users.intersection(patients)\n",
    "fair_patients= fair_users.intersection(patients)\n",
    "light_patients = light_users.intersection(patients)"
   ]
  },
  {
   "cell_type": "code",
   "execution_count": 130,
   "id": "ae7cbe88",
   "metadata": {},
   "outputs": [
    {
     "name": "stdout",
     "output_type": "stream",
     "text": [
      "43\n",
      "77\n",
      "96\n"
     ]
    }
   ],
   "source": [
    "print(super_patients.count())\n",
    "print(fair_patients.count())\n",
    "print(light_patients.count())"
   ]
  },
  {
   "cell_type": "code",
   "execution_count": 134,
   "id": "7230f902",
   "metadata": {},
   "outputs": [
    {
     "data": {
      "image/png": "[encoded data removed]",
      "text/plain": [
       "<Figure size 432x288 with 1 Axes>"
      ]
     },
     "metadata": {},
     "output_type": "display_data"
    }
   ],
   "source": [
    "import matplotlib.pyplot as plt\n",
    "import seaborn as sns\n",
    "\n",
    "#define data\n",
    "data = [43, 77, 96]\n",
    "labels = ['Super Users', 'Fair Users', 'Light Users']\n",
    "\n",
    "#define Seaborn color palette to use\n",
    "colors = sns.color_palette('pastel')[0:3]\n",
    "\n",
    "#create pie chart\n",
    "plt.pie(data, labels = labels, colors = colors, autopct='%.0f%%')\n",
    "plt.title('User classes among heart-disease patients')\n",
    "plt.show()"
   ]
  },
  {
   "cell_type": "code",
   "execution_count": 111,
   "id": "25e70441",
   "metadata": {},
   "outputs": [],
   "source": [
    "# Task2: Patients who are smokers and drinkers\n",
    "smokers = patients.filter(lambda x : 'TRUE' in x[5])\n",
    "drinkers = patients.filter(lambda x : 'TRUE' in x[6])\n",
    "stress_above50 = patients.filter(lambda x : int(x[10]) > 50)\n",
    "smokers_and_drinkers_stress_above50 = smokers.intersection(drinkers).intersection(stress_above50)"
   ]
  },
  {
   "cell_type": "code",
   "execution_count": 112,
   "id": "0e25f166",
   "metadata": {
    "scrolled": false
   },
   "outputs": [
    {
     "name": "stdout",
     "output_type": "stream",
     "text": [
      "[Row(ID='1', Observation_date='01/02/2022', Full_name='Zoella Pinksters', Birth_date='14/06/2002', Gender='Female', Smoker='TRUE', Drinker='TRUE', Heart_disease='TRUE', Steps_count='6876', Sleep_hours='8', Stress_score='59'), Row(ID='18', Observation_date='02/02/2022', Full_name='Marlene Smith', Birth_date='07/06/1964', Gender='Female', Smoker='TRUE', Drinker='TRUE', Heart_disease='TRUE', Steps_count='4646', Sleep_hours='5', Stress_score='57'), Row(ID='33', Observation_date='04/02/2022', Full_name='Roger Novak', Birth_date='23/02/2000', Gender='Male', Smoker='TRUE', Drinker='TRUE', Heart_disease='TRUE', Steps_count='6959', Sleep_hours='5', Stress_score='77'), Row(ID='71', Observation_date='08/02/2022', Full_name='Zoella Pinksters', Birth_date='14/06/2002', Gender='Female', Smoker='TRUE', Drinker='TRUE', Heart_disease='TRUE', Steps_count='13437', Sleep_hours='4', Stress_score='97'), Row(ID='78', Observation_date='08/02/2022', Full_name='Marlene Smith', Birth_date='07/06/1964', Gender='Male', Smoker='TRUE', Drinker='TRUE', Heart_disease='TRUE', Steps_count='2336', Sleep_hours='11', Stress_score='57'), Row(ID='80', Observation_date='08/02/2022', Full_name='Taylor Long', Birth_date='06/08/1973', Gender='Male', Smoker='TRUE', Drinker='TRUE', Heart_disease='TRUE', Steps_count='4469', Sleep_hours='3', Stress_score='89'), Row(ID='121', Observation_date='13/02/2022', Full_name='Zoella Pinksters', Birth_date='14/06/2002', Gender='Female', Smoker='TRUE', Drinker='TRUE', Heart_disease='TRUE', Steps_count='11189', Sleep_hours='9', Stress_score='55'), Row(ID='141', Observation_date='15/02/2022', Full_name='Zoella Pinksters', Birth_date='14/06/2002', Gender='Female', Smoker='TRUE', Drinker='TRUE', Heart_disease='TRUE', Steps_count='11143', Sleep_hours='4', Stress_score='62'), Row(ID='148', Observation_date='15/02/2022', Full_name='Marlene Smith', Birth_date='07/06/1964', Gender='Female', Smoker='TRUE', Drinker='TRUE', Heart_disease='TRUE', Steps_count='3239', Sleep_hours='9', Stress_score='75'), Row(ID='181', Observation_date='19/02/2022', Full_name='Zoella Pinksters', Birth_date='14/06/2002', Gender='Female', Smoker='TRUE', Drinker='TRUE', Heart_disease='TRUE', Steps_count='11975', Sleep_hours='6', Stress_score='79'), Row(ID='221', Observation_date='23/02/2022', Full_name='Zoella Pinksters', Birth_date='14/06/2002', Gender='Female', Smoker='TRUE', Drinker='TRUE', Heart_disease='TRUE', Steps_count='12973', Sleep_hours='5', Stress_score='63'), Row(ID='250', Observation_date='26/02/2022', Full_name='Taylor Long', Birth_date='06/08/1973', Gender='Male', Smoker='TRUE', Drinker='TRUE', Heart_disease='TRUE', Steps_count='11358', Sleep_hours='4', Stress_score='53'), Row(ID='261', Observation_date='28/02/2022', Full_name='Zoella Pinksters', Birth_date='14/06/2002', Gender='Female', Smoker='TRUE', Drinker='TRUE', Heart_disease='TRUE', Steps_count='12075', Sleep_hours='7', Stress_score='75'), Row(ID='263', Observation_date='28/02/2022', Full_name='Roger Novak', Birth_date='23/02/2000', Gender='Male', Smoker='TRUE', Drinker='TRUE', Heart_disease='TRUE', Steps_count='7982', Sleep_hours='4', Stress_score='90'), Row(ID='20', Observation_date='02/02/2022', Full_name='Taylor Long', Birth_date='06/08/1973', Gender='Male', Smoker='TRUE', Drinker='TRUE', Heart_disease='TRUE', Steps_count='12393', Sleep_hours='7', Stress_score='87'), Row(ID='43', Observation_date='05/02/2022', Full_name='Roger Novak', Birth_date='23/02/2000', Gender='Male', Smoker='TRUE', Drinker='TRUE', Heart_disease='TRUE', Steps_count='1048', Sleep_hours='2', Stress_score='72'), Row(ID='53', Observation_date='06/02/2022', Full_name='Roger Novak', Birth_date='23/02/2000', Gender='Male', Smoker='TRUE', Drinker='TRUE', Heart_disease='TRUE', Steps_count='12908', Sleep_hours='2', Stress_score='83'), Row(ID='128', Observation_date='13/02/2022', Full_name='Marlene Smith', Birth_date='07/06/1964', Gender='Female', Smoker='TRUE', Drinker='TRUE', Heart_disease='TRUE', Steps_count='12388', Sleep_hours='7', Stress_score='61'), Row(ID='138', Observation_date='14/02/2022', Full_name='Marlene Smith', Birth_date='07/06/1964', Gender='Male', Smoker='TRUE', Drinker='TRUE', Heart_disease='TRUE', Steps_count='14501', Sleep_hours='4', Stress_score='63'), Row(ID='163', Observation_date='17/02/2022', Full_name='Roger Novak', Birth_date='23/02/2000', Gender='Male', Smoker='TRUE', Drinker='TRUE', Heart_disease='TRUE', Steps_count='7652', Sleep_hours='3', Stress_score='78'), Row(ID='171', Observation_date='18/02/2022', Full_name='Zoella Pinksters', Birth_date='14/06/2002', Gender='Female', Smoker='TRUE', Drinker='TRUE', Heart_disease='TRUE', Steps_count='2546', Sleep_hours='10', Stress_score='68'), Row(ID='191', Observation_date='20/02/2022', Full_name='Zoella Pinksters', Birth_date='14/06/2002', Gender='Female', Smoker='TRUE', Drinker='TRUE', Heart_disease='TRUE', Steps_count='1242', Sleep_hours='7', Stress_score='93'), Row(ID='208', Observation_date='21/02/2022', Full_name='Marlene Smith', Birth_date='07/06/1964', Gender='Male', Smoker='TRUE', Drinker='TRUE', Heart_disease='TRUE', Steps_count='10093', Sleep_hours='2', Stress_score='51'), Row(ID='233', Observation_date='24/02/2022', Full_name='Roger Novak', Birth_date='23/02/2000', Gender='Male', Smoker='TRUE', Drinker='TRUE', Heart_disease='TRUE', Steps_count='8380', Sleep_hours='7', Stress_score='91'), Row(ID='241', Observation_date='26/02/2022', Full_name='Zoella Pinksters', Birth_date='14/06/2002', Gender='Female', Smoker='TRUE', Drinker='TRUE', Heart_disease='TRUE', Steps_count='5164', Sleep_hours='7', Stress_score='55'), Row(ID='243', Observation_date='26/02/2022', Full_name='Roger Novak', Birth_date='23/02/2000', Gender='Male', Smoker='TRUE', Drinker='TRUE', Heart_disease='TRUE', Steps_count='14746', Sleep_hours='10', Stress_score='77'), Row(ID='41', Observation_date='05/02/2022', Full_name='Zoella Pinksters', Birth_date='14/06/2002', Gender='Female', Smoker='TRUE', Drinker='TRUE', Heart_disease='TRUE', Steps_count='11998', Sleep_hours='7', Stress_score='95'), Row(ID='58', Observation_date='06/02/2022', Full_name='Marlene Smith', Birth_date='07/06/1964', Gender='Female', Smoker='TRUE', Drinker='TRUE', Heart_disease='TRUE', Steps_count='9446', Sleep_hours='7', Stress_score='83'), Row(ID='110', Observation_date='11/02/2022', Full_name='Taylor Long', Birth_date='06/08/1973', Gender='Male', Smoker='TRUE', Drinker='TRUE', Heart_disease='TRUE', Steps_count='9212', Sleep_hours='10', Stress_score='93'), Row(ID='113', Observation_date='12/02/2022', Full_name='Roger Novak', Birth_date='23/02/2000', Gender='Male', Smoker='TRUE', Drinker='TRUE', Heart_disease='TRUE', Steps_count='8555', Sleep_hours='4', Stress_score='67'), Row(ID='118', Observation_date='12/02/2022', Full_name='Marlene Smith', Birth_date='07/06/1964', Gender='Male', Smoker='TRUE', Drinker='TRUE', Heart_disease='TRUE', Steps_count='2768', Sleep_hours='2', Stress_score='92'), Row(ID='131', Observation_date='14/02/2022', Full_name='Zoella Pinksters', Birth_date='14/06/2002', Gender='Female', Smoker='TRUE', Drinker='TRUE', Heart_disease='TRUE', Steps_count='6629', Sleep_hours='9', Stress_score='63'), Row(ID='173', Observation_date='18/02/2022', Full_name='Roger Novak', Birth_date='23/02/2000', Gender='Male', Smoker='TRUE', Drinker='TRUE', Heart_disease='TRUE', Steps_count='14842', Sleep_hours='5', Stress_score='84'), Row(ID='201', Observation_date='21/02/2022', Full_name='Zoella Pinksters', Birth_date='14/06/2002', Gender='Female', Smoker='TRUE', Drinker='TRUE', Heart_disease='TRUE', Steps_count='8251', Sleep_hours='4', Stress_score='67'), Row(ID='21', Observation_date='03/02/2022', Full_name='Zoella Pinksters', Birth_date='14/06/2002', Gender='Female', Smoker='TRUE', Drinker='TRUE', Heart_disease='TRUE', Steps_count='9888', Sleep_hours='10', Stress_score='66'), Row(ID='31', Observation_date='04/02/2022', Full_name='Zoella Pinksters', Birth_date='14/06/2002', Gender='Female', Smoker='TRUE', Drinker='TRUE', Heart_disease='TRUE', Steps_count='1217', Sleep_hours='3', Stress_score='72'), Row(ID='81', Observation_date='09/02/2022', Full_name='Zoella Pinksters', Birth_date='14/06/2002', Gender='Female', Smoker='TRUE', Drinker='TRUE', Heart_disease='TRUE', Steps_count='6918', Sleep_hours='7', Stress_score='74'), Row(ID='88', Observation_date='09/02/2022', Full_name='Marlene Smith', Birth_date='07/06/1964', Gender='Male', Smoker='TRUE', Drinker='TRUE', Heart_disease='TRUE', Steps_count='14354', Sleep_hours='3', Stress_score='52'), Row(ID='93', Observation_date='10/02/2022', Full_name='Roger Novak', Birth_date='23/02/2000', Gender='Male', Smoker='TRUE', Drinker='TRUE', Heart_disease='TRUE', Steps_count='8235', Sleep_hours='4', Stress_score='96'), Row(ID='100', Observation_date='11/02/2022', Full_name='Taylor Long', Birth_date='06/08/1973', Gender='Male', Smoker='TRUE', Drinker='TRUE', Heart_disease='TRUE', Steps_count='1351', Sleep_hours='7', Stress_score='61'), Row(ID='108', Observation_date='11/02/2022', Full_name='Marlene Smith', Birth_date='07/06/1964', Gender='Female', Smoker='TRUE', Drinker='TRUE', Heart_disease='TRUE', Steps_count='4411', Sleep_hours='6', Stress_score='98'), Row(ID='150', Observation_date='15/02/2022', Full_name='Taylor Long', Birth_date='06/08/1973', Gender='Male', Smoker='TRUE', Drinker='TRUE', Heart_disease='TRUE', Steps_count='4598', Sleep_hours='11', Stress_score='61'), Row(ID='153', Observation_date='16/02/2022', Full_name='Roger Novak', Birth_date='23/02/2000', Gender='Male', Smoker='TRUE', Drinker='TRUE', Heart_disease='TRUE', Steps_count='4233', Sleep_hours='3', Stress_score='85'), Row(ID='198', Observation_date='20/02/2022', Full_name='Marlene Smith', Birth_date='07/06/1964', Gender='Female', Smoker='TRUE', Drinker='TRUE', Heart_disease='TRUE', Steps_count='12353', Sleep_hours='6', Stress_score='75'), Row(ID='238', Observation_date='24/02/2022', Full_name='Marlene Smith', Birth_date='07/06/1964', Gender='Male', Smoker='TRUE', Drinker='TRUE', Heart_disease='TRUE', Steps_count='12088', Sleep_hours='9', Stress_score='57'), Row(ID='240', Observation_date='25/02/2022', Full_name='Taylor Long', Birth_date='06/08/1973', Gender='Male', Smoker='TRUE', Drinker='TRUE', Heart_disease='TRUE', Steps_count='5847', Sleep_hours='10', Stress_score='62'), Row(ID='248', Observation_date='26/02/2022', Full_name='Marlene Smith', Birth_date='07/06/1964', Gender='Male', Smoker='TRUE', Drinker='TRUE', Heart_disease='TRUE', Steps_count='13676', Sleep_hours='4', Stress_score='91'), Row(ID='91', Observation_date='10/02/2022', Full_name='Zoella Pinksters', Birth_date='14/06/2002', Gender='Female', Smoker='TRUE', Drinker='TRUE', Heart_disease='TRUE', Steps_count='9536', Sleep_hours='4', Stress_score='54'), Row(ID='98', Observation_date='10/02/2022', Full_name='Marlene Smith', Birth_date='07/06/1964', Gender='Male', Smoker='TRUE', Drinker='TRUE', Heart_disease='TRUE', Steps_count='8187', Sleep_hours='3', Stress_score='63'), Row(ID='180', Observation_date='18/02/2022', Full_name='Taylor Long', Birth_date='06/08/1973', Gender='Male', Smoker='TRUE', Drinker='TRUE', Heart_disease='TRUE', Steps_count='4408', Sleep_hours='8', Stress_score='88'), Row(ID='228', Observation_date='23/02/2022', Full_name='Marlene Smith', Birth_date='07/06/1964', Gender='Male', Smoker='TRUE', Drinker='TRUE', Heart_disease='TRUE', Steps_count='5413', Sleep_hours='10', Stress_score='99'), Row(ID='270', Observation_date='28/02/2022', Full_name='Taylor Long', Birth_date='06/08/1973', Gender='Male', Smoker='TRUE', Drinker='TRUE', Heart_disease='TRUE', Steps_count='2879', Sleep_hours='2', Stress_score='77'), Row(ID='8', Observation_date='01/02/2022', Full_name='Marlene Smith', Birth_date='07/06/1964', Gender='Male', Smoker='TRUE', Drinker='TRUE', Heart_disease='TRUE', Steps_count='5051', Sleep_hours='10', Stress_score='85'), Row(ID='60', Observation_date='06/02/2022', Full_name='Taylor Long', Birth_date='06/08/1973', Gender='Male', Smoker='TRUE', Drinker='TRUE', Heart_disease='TRUE', Steps_count='10475', Sleep_hours='2', Stress_score='97'), Row(ID='68', Observation_date='07/02/2022', Full_name='Marlene Smith', Birth_date='07/06/1964', Gender='Male', Smoker='TRUE', Drinker='TRUE', Heart_disease='TRUE', Steps_count='3365', Sleep_hours='9', Stress_score='82'), Row(ID='130', Observation_date='13/02/2022', Full_name='Taylor Long', Birth_date='06/08/1973', Gender='Male', Smoker='TRUE', Drinker='TRUE', Heart_disease='TRUE', Steps_count='2447', Sleep_hours='9', Stress_score='91'), Row(ID='161', Observation_date='17/02/2022', Full_name='Zoella Pinksters', Birth_date='14/06/2002', Gender='Female', Smoker='TRUE', Drinker='TRUE', Heart_disease='TRUE', Steps_count='7914', Sleep_hours='7', Stress_score='68'), Row(ID='193', Observation_date='20/02/2022', Full_name='Roger Novak', Birth_date='23/02/2000', Gender='Male', Smoker='TRUE', Drinker='TRUE', Heart_disease='TRUE', Steps_count='3407', Sleep_hours='5', Stress_score='83'), Row(ID='223', Observation_date='23/02/2022', Full_name='Roger Novak', Birth_date='23/02/2000', Gender='Male', Smoker='TRUE', Drinker='TRUE', Heart_disease='TRUE', Steps_count='8561', Sleep_hours='9', Stress_score='63'), Row(ID='258', Observation_date='27/02/2022', Full_name='Marlene Smith', Birth_date='07/06/1964', Gender='Male', Smoker='TRUE', Drinker='TRUE', Heart_disease='TRUE', Steps_count='9870', Sleep_hours='6', Stress_score='58'), Row(ID='268', Observation_date='28/02/2022', Full_name='Marlene Smith', Birth_date='07/06/1964', Gender='Male', Smoker='TRUE', Drinker='TRUE', Heart_disease='TRUE', Steps_count='10671', Sleep_hours='10', Stress_score='68')]\n"
     ]
    },
    {
     "name": "stdout",
     "output_type": "stream",
     "text": [
      "61\n"
     ]
    }
   ],
   "source": [
    "print(smokers_and_drinkers_stress_above50.collect())\n",
    "print(smokers_and_drinkers_stress_above50.count())"
   ]
  },
  {
   "cell_type": "code",
   "execution_count": 114,
   "id": "83955a31",
   "metadata": {},
   "outputs": [
    {
     "name": "stdout",
     "output_type": "stream",
     "text": [
      "[Row(ID='26', Observation_date='03/02/2022', Full_name='Lucy Hale', Birth_date='13/12/1952', Gender='Female', Smoker='FALSE', Drinker='FALSE', Heart_disease='TRUE', Steps_count='9657', Sleep_hours='11', Stress_score='53'), Row(ID='16', Observation_date='02/02/2022', Full_name='Lucy Hale', Birth_date='13/12/1952', Gender='Female', Smoker='FALSE', Drinker='FALSE', Heart_disease='TRUE', Steps_count='11895', Sleep_hours='11', Stress_score='73'), Row(ID='36', Observation_date='04/02/2022', Full_name='Lucy Hale', Birth_date='13/12/1952', Gender='Female', Smoker='FALSE', Drinker='FALSE', Heart_disease='TRUE', Steps_count='10615', Sleep_hours='2', Stress_score='78'), Row(ID='46', Observation_date='05/02/2022', Full_name='Lucy Hale', Birth_date='13/12/1952', Gender='Female', Smoker='FALSE', Drinker='FALSE', Heart_disease='TRUE', Steps_count='10244', Sleep_hours='11', Stress_score='99'), Row(ID='106', Observation_date='11/02/2022', Full_name='Lucy Hale', Birth_date='13/12/1952', Gender='Female', Smoker='FALSE', Drinker='FALSE', Heart_disease='TRUE', Steps_count='12732', Sleep_hours='1', Stress_score='89'), Row(ID='136', Observation_date='14/02/2022', Full_name='Lucy Hale', Birth_date='13/12/1952', Gender='Female', Smoker='FALSE', Drinker='FALSE', Heart_disease='TRUE', Steps_count='3675', Sleep_hours='1', Stress_score='77'), Row(ID='146', Observation_date='15/02/2022', Full_name='Lucy Hale', Birth_date='13/12/1952', Gender='Female', Smoker='FALSE', Drinker='FALSE', Heart_disease='TRUE', Steps_count='4417', Sleep_hours='5', Stress_score='87'), Row(ID='236', Observation_date='24/02/2022', Full_name='Lucy Hale', Birth_date='13/12/1952', Gender='Female', Smoker='FALSE', Drinker='FALSE', Heart_disease='TRUE', Steps_count='2832', Sleep_hours='5', Stress_score='66'), Row(ID='86', Observation_date='09/02/2022', Full_name='Lucy Hale', Birth_date='13/12/1952', Gender='Female', Smoker='FALSE', Drinker='FALSE', Heart_disease='TRUE', Steps_count='13101', Sleep_hours='1', Stress_score='62'), Row(ID='96', Observation_date='10/02/2022', Full_name='Lucy Hale', Birth_date='13/12/1952', Gender='Female', Smoker='FALSE', Drinker='FALSE', Heart_disease='TRUE', Steps_count='3268', Sleep_hours='2', Stress_score='99'), Row(ID='176', Observation_date='18/02/2022', Full_name='Lucy Hale', Birth_date='13/12/1952', Gender='Female', Smoker='FALSE', Drinker='FALSE', Heart_disease='TRUE', Steps_count='4978', Sleep_hours='8', Stress_score='56'), Row(ID='66', Observation_date='07/02/2022', Full_name='Lucy Hale', Birth_date='13/12/1952', Gender='Female', Smoker='FALSE', Drinker='FALSE', Heart_disease='TRUE', Steps_count='13199', Sleep_hours='5', Stress_score='52'), Row(ID='166', Observation_date='17/02/2022', Full_name='Lucy Hale', Birth_date='13/12/1952', Gender='Female', Smoker='FALSE', Drinker='FALSE', Heart_disease='TRUE', Steps_count='10030', Sleep_hours='7', Stress_score='98'), Row(ID='256', Observation_date='27/02/2022', Full_name='Lucy Hale', Birth_date='13/12/1952', Gender='Female', Smoker='FALSE', Drinker='FALSE', Heart_disease='TRUE', Steps_count='1670', Sleep_hours='7', Stress_score='86')]\n",
      "14\n"
     ]
    }
   ],
   "source": [
    "non_smokers = patients.filter(lambda x : 'FALSE' in x[5])\n",
    "non_drinkers = patients.filter(lambda x : 'FALSE' in x[6])\n",
    "stress_above50 = patients.filter(lambda x : int(x[10]) > 50)\n",
    "non_smokers_and_drinkers_stress_above50 = non_smokers.intersection(non_drinkers).intersection(stress_above50)\n",
    "print(non_smokers_and_drinkers_stress_above50.collect())\n",
    "print(non_smokers_and_drinkers_stress_above50.count())"
   ]
  },
  {
   "cell_type": "code",
   "execution_count": 97,
   "id": "7a79783e",
   "metadata": {},
   "outputs": [],
   "source": [
    "# Task3: Average stress score among the patients\n",
    "stressed = patients.filter(lambda x : 'TRUE' in x[10])\n",
    "stressed_patients = stressed.intersection(patients)"
   ]
  },
  {
   "cell_type": "code",
   "execution_count": 116,
   "id": "5017d4ea",
   "metadata": {},
   "outputs": [
    {
     "data": {
      "text/plain": [
       "216"
      ]
     },
     "execution_count": 116,
     "metadata": {},
     "output_type": "execute_result"
    }
   ],
   "source": [
    "patients.collect()\n",
    "patients.count()"
   ]
  },
  {
   "cell_type": "code",
   "execution_count": 102,
   "id": "a98caf0c",
   "metadata": {},
   "outputs": [
    {
     "data": {
      "text/plain": [
       "[('Zoella Pinksters', 59),\n",
       " ('Rick Baster', 60),\n",
       " ('Roger Novak', 14),\n",
       " ('Ronald Johnson', 1),\n",
       " ('Susan Mccan', 51),\n",
       " ('Lucy Hale', 26),\n",
       " ('Marlene Smith', 85),\n",
       " ('Taylor Long', 39),\n",
       " ('Zoella Pinksters', 33),\n",
       " ('Rick Baster', 39),\n",
       " ('Roger Novak', 47),\n",
       " ('Ronald Johnson', 65),\n",
       " ('Susan Mccan', 9),\n",
       " ('Lucy Hale', 73),\n",
       " ('Marlene Smith', 57),\n",
       " ('Taylor Long', 87),\n",
       " ('Zoella Pinksters', 66),\n",
       " ('Rick Baster', 56),\n",
       " ('Roger Novak', 36),\n",
       " ('Ronald Johnson', 30),\n",
       " ('Susan Mccan', 89),\n",
       " ('Lucy Hale', 53),\n",
       " ('Marlene Smith', 4),\n",
       " ('Taylor Long', 40),\n",
       " ('Zoella Pinksters', 72),\n",
       " ('Rick Baster', 80),\n",
       " ('Roger Novak', 77),\n",
       " ('Ronald Johnson', 65),\n",
       " ('Susan Mccan', 37),\n",
       " ('Lucy Hale', 78),\n",
       " ('Marlene Smith', 9),\n",
       " ('Taylor Long', 14),\n",
       " ('Zoella Pinksters', 95),\n",
       " ('Rick Baster', 65),\n",
       " ('Roger Novak', 72),\n",
       " ('Ronald Johnson', 78),\n",
       " ('Susan Mccan', 14),\n",
       " ('Lucy Hale', 99),\n",
       " ('Marlene Smith', 35),\n",
       " ('Taylor Long', 24),\n",
       " ('Zoella Pinksters', 8),\n",
       " ('Rick Baster', 11),\n",
       " ('Roger Novak', 83),\n",
       " ('Ronald Johnson', 26),\n",
       " ('Susan Mccan', 95),\n",
       " ('Lucy Hale', 3),\n",
       " ('Marlene Smith', 83),\n",
       " ('Taylor Long', 97),\n",
       " ('Zoella Pinksters', 48),\n",
       " ('Rick Baster', 96),\n",
       " ('Roger Novak', 27),\n",
       " ('Ronald Johnson', 10),\n",
       " ('Susan Mccan', 67),\n",
       " ('Lucy Hale', 52),\n",
       " ('Marlene Smith', 82),\n",
       " ('Taylor Long', 30),\n",
       " ('Zoella Pinksters', 97),\n",
       " ('Rick Baster', 19),\n",
       " ('Roger Novak', 11),\n",
       " ('Ronald Johnson', 85),\n",
       " ('Susan Mccan', 91),\n",
       " ('Lucy Hale', 2),\n",
       " ('Marlene Smith', 57),\n",
       " ('Taylor Long', 89),\n",
       " ('Zoella Pinksters', 74),\n",
       " ('Rick Baster', 43),\n",
       " ('Roger Novak', 18),\n",
       " ('Ronald Johnson', 35),\n",
       " ('Susan Mccan', 33),\n",
       " ('Lucy Hale', 62),\n",
       " ('Marlene Smith', 52),\n",
       " ('Taylor Long', 34),\n",
       " ('Zoella Pinksters', 54),\n",
       " ('Rick Baster', 92),\n",
       " ('Roger Novak', 96),\n",
       " ('Ronald Johnson', 49),\n",
       " ('Susan Mccan', 66),\n",
       " ('Lucy Hale', 99),\n",
       " ('Marlene Smith', 63),\n",
       " ('Taylor Long', 61),\n",
       " ('Zoella Pinksters', 38),\n",
       " ('Rick Baster', 96),\n",
       " ('Roger Novak', 7),\n",
       " ('Ronald Johnson', 55),\n",
       " ('Susan Mccan', 27),\n",
       " ('Lucy Hale', 89),\n",
       " ('Marlene Smith', 98),\n",
       " ('Taylor Long', 93),\n",
       " ('Zoella Pinksters', 20),\n",
       " ('Rick Baster', 66),\n",
       " ('Roger Novak', 67),\n",
       " ('Ronald Johnson', 22),\n",
       " ('Susan Mccan', 24),\n",
       " ('Lucy Hale', 5),\n",
       " ('Marlene Smith', 92),\n",
       " ('Taylor Long', 6),\n",
       " ('Zoella Pinksters', 55),\n",
       " ('Rick Baster', 10),\n",
       " ('Roger Novak', 13),\n",
       " ('Ronald Johnson', 94),\n",
       " ('Susan Mccan', 76),\n",
       " ('Lucy Hale', 5),\n",
       " ('Marlene Smith', 61),\n",
       " ('Taylor Long', 91),\n",
       " ('Zoella Pinksters', 63),\n",
       " ('Rick Baster', 21),\n",
       " ('Roger Novak', 46),\n",
       " ('Ronald Johnson', 55),\n",
       " ('Susan Mccan', 52),\n",
       " ('Lucy Hale', 77),\n",
       " ('Marlene Smith', 63),\n",
       " ('Taylor Long', 43),\n",
       " ('Zoella Pinksters', 62),\n",
       " ('Rick Baster', 99),\n",
       " ('Roger Novak', 19),\n",
       " ('Ronald Johnson', 76),\n",
       " ('Susan Mccan', 15),\n",
       " ('Lucy Hale', 87),\n",
       " ('Marlene Smith', 75),\n",
       " ('Taylor Long', 61),\n",
       " ('Zoella Pinksters', 22),\n",
       " ('Rick Baster', 46),\n",
       " ('Roger Novak', 85),\n",
       " ('Ronald Johnson', 7),\n",
       " ('Susan Mccan', 7),\n",
       " ('Lucy Hale', 29),\n",
       " ('Marlene Smith', 12),\n",
       " ('Taylor Long', 23),\n",
       " ('Zoella Pinksters', 68),\n",
       " ('Rick Baster', 38),\n",
       " ('Roger Novak', 78),\n",
       " ('Ronald Johnson', 43),\n",
       " ('Susan Mccan', 31),\n",
       " ('Lucy Hale', 98),\n",
       " ('Marlene Smith', 13),\n",
       " ('Taylor Long', 46),\n",
       " ('Zoella Pinksters', 68),\n",
       " ('Rick Baster', 16),\n",
       " ('Roger Novak', 84),\n",
       " ('Ronald Johnson', 35),\n",
       " ('Susan Mccan', 44),\n",
       " ('Lucy Hale', 56),\n",
       " ('Marlene Smith', 36),\n",
       " ('Taylor Long', 88),\n",
       " ('Zoella Pinksters', 79),\n",
       " ('Rick Baster', 46),\n",
       " ('Roger Novak', 36),\n",
       " ('Ronald Johnson', 59),\n",
       " ('Susan Mccan', 69),\n",
       " ('Lucy Hale', 17),\n",
       " ('Marlene Smith', 40),\n",
       " ('Taylor Long', 23),\n",
       " ('Zoella Pinksters', 93),\n",
       " ('Rick Baster', 25),\n",
       " ('Roger Novak', 83),\n",
       " ('Ronald Johnson', 85),\n",
       " ('Susan Mccan', 74),\n",
       " ('Lucy Hale', 24),\n",
       " ('Marlene Smith', 75),\n",
       " ('Taylor Long', 17),\n",
       " ('Zoella Pinksters', 67),\n",
       " ('Rick Baster', 14),\n",
       " ('Roger Novak', 5),\n",
       " ('Ronald Johnson', 79),\n",
       " ('Susan Mccan', 92),\n",
       " ('Lucy Hale', 7),\n",
       " ('Marlene Smith', 51),\n",
       " ('Taylor Long', 50),\n",
       " ('Zoella Pinksters', 38),\n",
       " ('Rick Baster', 48),\n",
       " ('Roger Novak', 32),\n",
       " ('Ronald Johnson', 91),\n",
       " ('Susan Mccan', 43),\n",
       " ('Lucy Hale', 22),\n",
       " ('Marlene Smith', 19),\n",
       " ('Taylor Long', 15),\n",
       " ('Zoella Pinksters', 63),\n",
       " ('Rick Baster', 80),\n",
       " ('Roger Novak', 63),\n",
       " ('Ronald Johnson', 47),\n",
       " ('Susan Mccan', 53),\n",
       " ('Lucy Hale', 44),\n",
       " ('Marlene Smith', 99),\n",
       " ('Taylor Long', 20),\n",
       " ('Zoella Pinksters', 35),\n",
       " ('Rick Baster', 15),\n",
       " ('Roger Novak', 91),\n",
       " ('Ronald Johnson', 64),\n",
       " ('Susan Mccan', 21),\n",
       " ('Lucy Hale', 66),\n",
       " ('Marlene Smith', 57),\n",
       " ('Taylor Long', 62),\n",
       " ('Zoella Pinksters', 55),\n",
       " ('Rick Baster', 84),\n",
       " ('Roger Novak', 77),\n",
       " ('Ronald Johnson', 98),\n",
       " ('Susan Mccan', 85),\n",
       " ('Lucy Hale', 45),\n",
       " ('Marlene Smith', 91),\n",
       " ('Taylor Long', 53),\n",
       " ('Zoella Pinksters', 22),\n",
       " ('Rick Baster', 2),\n",
       " ('Roger Novak', 3),\n",
       " ('Ronald Johnson', 31),\n",
       " ('Susan Mccan', 53),\n",
       " ('Lucy Hale', 86),\n",
       " ('Marlene Smith', 58),\n",
       " ('Taylor Long', 49),\n",
       " ('Zoella Pinksters', 75),\n",
       " ('Rick Baster', 62),\n",
       " ('Roger Novak', 90),\n",
       " ('Ronald Johnson', 43),\n",
       " ('Susan Mccan', 15),\n",
       " ('Lucy Hale', 23),\n",
       " ('Marlene Smith', 68),\n",
       " ('Taylor Long', 77)]"
      ]
     },
     "execution_count": 102,
     "metadata": {},
     "output_type": "execute_result"
    }
   ],
   "source": [
    "user_stress= patients.map(lambda x: (x[2], int(x[10])))\n",
    "user_stress.collect()"
   ]
  },
  {
   "cell_type": "code",
   "execution_count": 103,
   "id": "adbd0317",
   "metadata": {},
   "outputs": [],
   "source": [
    "avg_stress = user_stress.mapValues(lambda v: (v, 1)) \\\n",
    "    .reduceByKey(lambda x, y: (x[0] + y[0], x[1] + y[1])) \\\n",
    "    .mapValues(lambda v: v[0] / v[1])"
   ]
  },
  {
   "cell_type": "code",
   "execution_count": 104,
   "id": "e30c9fd7",
   "metadata": {},
   "outputs": [
    {
     "data": {
      "text/plain": [
       "[('Zoella Pinksters', 56.629629629629626),\n",
       " ('Rick Baster', 49.22222222222222),\n",
       " ('Roger Novak', 50.370370370370374),\n",
       " ('Ronald Johnson', 52.888888888888886),\n",
       " ('Susan Mccan', 49.370370370370374),\n",
       " ('Lucy Hale', 49.148148148148145),\n",
       " ('Marlene Smith', 56.851851851851855),\n",
       " ('Taylor Long', 49.333333333333336)]"
      ]
     },
     "execution_count": 104,
     "metadata": {},
     "output_type": "execute_result"
    }
   ],
   "source": [
    "avg_stress.collect()"
   ]
  },
  {
   "cell_type": "code",
   "execution_count": null,
   "id": "284615a3",
   "metadata": {},
   "outputs": [],
   "source": []
  }
 ],
 "metadata": {
  "kernelspec": {
   "display_name": "Python 3 (ipykernel)",
   "language": "python",
   "name": "python3"
  },
  "language_info": {
   "codemirror_mode": {
    "name": "ipython",
    "version": 3
   },
   "file_extension": ".py",
   "mimetype": "text/x-python",
   "name": "python",
   "nbconvert_exporter": "python",
   "pygments_lexer": "ipython3",
   "version": "3.9.12"
  }
 },
 "nbformat": 4,
 "nbformat_minor": 5
}
